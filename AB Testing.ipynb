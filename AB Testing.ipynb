{
 "cells": [
  {
   "cell_type": "code",
   "execution_count": 18,
   "id": "e3eefb0b-eb0c-4fcc-b58a-6b2d8bbf38cd",
   "metadata": {},
   "outputs": [],
   "source": [
    "import pandas as pd\n",
    "import seaborn as sns\n",
    "import matplotlib.pyplot as plt"
   ]
  },
  {
   "cell_type": "code",
   "execution_count": 19,
   "id": "29069a3b-8ea5-43e8-b58f-e7817a04ea21",
   "metadata": {},
   "outputs": [
    {
     "data": {
      "text/html": [
       "<div>\n",
       "<style scoped>\n",
       "    .dataframe tbody tr th:only-of-type {\n",
       "        vertical-align: middle;\n",
       "    }\n",
       "\n",
       "    .dataframe tbody tr th {\n",
       "        vertical-align: top;\n",
       "    }\n",
       "\n",
       "    .dataframe thead th {\n",
       "        text-align: right;\n",
       "    }\n",
       "</style>\n",
       "<table border=\"1\" class=\"dataframe\">\n",
       "  <thead>\n",
       "    <tr style=\"text-align: right;\">\n",
       "      <th></th>\n",
       "      <th>Unnamed: 0</th>\n",
       "      <th>user id</th>\n",
       "      <th>test group</th>\n",
       "      <th>converted</th>\n",
       "      <th>total ads</th>\n",
       "      <th>most ads day</th>\n",
       "      <th>most ads hour</th>\n",
       "    </tr>\n",
       "  </thead>\n",
       "  <tbody>\n",
       "    <tr>\n",
       "      <th>0</th>\n",
       "      <td>0</td>\n",
       "      <td>1069124</td>\n",
       "      <td>ad</td>\n",
       "      <td>False</td>\n",
       "      <td>130</td>\n",
       "      <td>Monday</td>\n",
       "      <td>20</td>\n",
       "    </tr>\n",
       "    <tr>\n",
       "      <th>1</th>\n",
       "      <td>1</td>\n",
       "      <td>1119715</td>\n",
       "      <td>ad</td>\n",
       "      <td>False</td>\n",
       "      <td>93</td>\n",
       "      <td>Tuesday</td>\n",
       "      <td>22</td>\n",
       "    </tr>\n",
       "    <tr>\n",
       "      <th>2</th>\n",
       "      <td>2</td>\n",
       "      <td>1144181</td>\n",
       "      <td>ad</td>\n",
       "      <td>False</td>\n",
       "      <td>21</td>\n",
       "      <td>Tuesday</td>\n",
       "      <td>18</td>\n",
       "    </tr>\n",
       "    <tr>\n",
       "      <th>3</th>\n",
       "      <td>3</td>\n",
       "      <td>1435133</td>\n",
       "      <td>ad</td>\n",
       "      <td>False</td>\n",
       "      <td>355</td>\n",
       "      <td>Tuesday</td>\n",
       "      <td>10</td>\n",
       "    </tr>\n",
       "    <tr>\n",
       "      <th>4</th>\n",
       "      <td>4</td>\n",
       "      <td>1015700</td>\n",
       "      <td>ad</td>\n",
       "      <td>False</td>\n",
       "      <td>276</td>\n",
       "      <td>Friday</td>\n",
       "      <td>14</td>\n",
       "    </tr>\n",
       "  </tbody>\n",
       "</table>\n",
       "</div>"
      ],
      "text/plain": [
       "   Unnamed: 0  user id test group  converted  total ads most ads day  \\\n",
       "0           0  1069124         ad      False        130       Monday   \n",
       "1           1  1119715         ad      False         93      Tuesday   \n",
       "2           2  1144181         ad      False         21      Tuesday   \n",
       "3           3  1435133         ad      False        355      Tuesday   \n",
       "4           4  1015700         ad      False        276       Friday   \n",
       "\n",
       "   most ads hour  \n",
       "0             20  \n",
       "1             22  \n",
       "2             18  \n",
       "3             10  \n",
       "4             14  "
      ]
     },
     "execution_count": 19,
     "metadata": {},
     "output_type": "execute_result"
    }
   ],
   "source": [
    "df = pd.read_csv('marketing_AB.csv')\n",
    "df.head()"
   ]
  },
  {
   "cell_type": "code",
   "execution_count": 20,
   "id": "e48d931c-bbe5-46c2-9d27-4d6b42040d15",
   "metadata": {},
   "outputs": [
    {
     "data": {
      "text/plain": [
       "(588101, 7)"
      ]
     },
     "execution_count": 20,
     "metadata": {},
     "output_type": "execute_result"
    }
   ],
   "source": [
    "df.shape"
   ]
  },
  {
   "cell_type": "code",
   "execution_count": 21,
   "id": "e31a4ba4-8882-4793-b186-0b2ba04576f3",
   "metadata": {},
   "outputs": [
    {
     "name": "stdout",
     "output_type": "stream",
     "text": [
      "<class 'pandas.core.frame.DataFrame'>\n",
      "RangeIndex: 588101 entries, 0 to 588100\n",
      "Data columns (total 7 columns):\n",
      " #   Column         Non-Null Count   Dtype \n",
      "---  ------         --------------   ----- \n",
      " 0   Unnamed: 0     588101 non-null  int64 \n",
      " 1   user id        588101 non-null  int64 \n",
      " 2   test group     588101 non-null  object\n",
      " 3   converted      588101 non-null  bool  \n",
      " 4   total ads      588101 non-null  int64 \n",
      " 5   most ads day   588101 non-null  object\n",
      " 6   most ads hour  588101 non-null  int64 \n",
      "dtypes: bool(1), int64(4), object(2)\n",
      "memory usage: 27.5+ MB\n"
     ]
    }
   ],
   "source": [
    "df.info()"
   ]
  },
  {
   "cell_type": "code",
   "execution_count": 22,
   "id": "10943089-37b1-4f33-8df9-8c624917e0c4",
   "metadata": {},
   "outputs": [
    {
     "data": {
      "text/plain": [
       "588101"
      ]
     },
     "execution_count": 22,
     "metadata": {},
     "output_type": "execute_result"
    }
   ],
   "source": [
    "df[\"user id\"].nunique()"
   ]
  },
  {
   "cell_type": "code",
   "execution_count": 23,
   "id": "8d427439-9ec2-4232-81c5-fd4329d8e24a",
   "metadata": {},
   "outputs": [],
   "source": [
    "df = df.drop(columns=['user id', 'Unnamed: 0'])"
   ]
  },
  {
   "cell_type": "code",
   "execution_count": 24,
   "id": "722e1e8d-a45b-4a54-b288-c554fe285e2f",
   "metadata": {},
   "outputs": [
    {
     "data": {
      "text/plain": [
       "count    588101.000000\n",
       "mean         24.820876\n",
       "std          43.715181\n",
       "min           1.000000\n",
       "25%           4.000000\n",
       "50%          13.000000\n",
       "75%          27.000000\n",
       "max        2065.000000\n",
       "Name: total ads, dtype: float64"
      ]
     },
     "execution_count": 24,
     "metadata": {},
     "output_type": "execute_result"
    }
   ],
   "source": [
    "df['total ads'].describe()"
   ]
  },
  {
   "cell_type": "code",
   "execution_count": 25,
   "id": "ca3d7f7d-1e94-427b-9280-cceea958dc0d",
   "metadata": {},
   "outputs": [
    {
     "name": "stdout",
     "output_type": "stream",
     "text": [
      "TEST GROUP  :  ['ad' 'psa']\n",
      "CONVERTED  :  [False  True]\n",
      "MOST ADS DAY  :  ['Monday' 'Tuesday' 'Friday' 'Saturday' 'Wednesday' 'Sunday' 'Thursday']\n",
      "MOST ADS HOUR  :  [20 22 18 10 14 13 19 11 12 16 21  3 23  4  8  0  2 15  1  6 17  7  9  5]\n"
     ]
    }
   ],
   "source": [
    "df_cat = df[['test group','converted','most ads day','most ads hour']]\n",
    "for i in df_cat.columns:\n",
    "    print(i.upper(), \" : \", df_cat[i].unique())"
   ]
  },
  {
   "cell_type": "code",
   "execution_count": 26,
   "id": "2ae6c05b-71f6-403e-a740-9a886f7e0564",
   "metadata": {},
   "outputs": [
    {
     "name": "stderr",
     "output_type": "stream",
     "text": [
      "C:\\Users\\Acer\\AppData\\Local\\Temp\\ipykernel_11716\\1126429378.py:16: FutureWarning: \n",
      "\n",
      "Passing `palette` without assigning `hue` is deprecated and will be removed in v0.14.0. Assign the `x` variable to `hue` and set `legend=False` for the same effect.\n",
      "\n",
      "  sns.countplot(x=variable, data=df_cat, palette=['#5D3FD3', '#73B748'])\n"
     ]
    },
    {
     "data": {
      "image/png": "[encoded data removed]",
      "text/plain": [
       "<Figure size 1200x600 with 2 Axes>"
      ]
     },
     "metadata": {},
     "output_type": "display_data"
    }
   ],
   "source": [
    "import matplotlib.pyplot as plt\n",
    "import seaborn as sns\n",
    "from matplotlib.ticker import FuncFormatter\n",
    "\n",
    "variable = 'test group'\n",
    "# Formatter function to convert y-axis labels to 'k' format\n",
    "def thousands_formatter(x, pos):\n",
    "    return '%1.0fk' % (x * 1e-3)\n",
    "\n",
    "# Create a figure\n",
    "plt.figure(figsize=(12, 6))\n",
    "counts = df_cat[variable].value_counts()\n",
    "\n",
    "# Count plot\n",
    "plt.subplot(1, 2, 1)\n",
    "sns.countplot(x=variable, data=df_cat, palette=['#5D3FD3', '#73B748'])\n",
    "plt.title(\"Distribution of Test Groups: 'ad' vs 'psa'\")\n",
    "plt.xlabel(\"\")\n",
    "plt.ylabel(\"\")\n",
    "plt.legend(counts.index, loc=\"best\")\n",
    "plt.gca().yaxis.set_major_formatter(FuncFormatter(thousands_formatter))\n",
    "\n",
    "# Pie chart\n",
    "plt.subplot(1, 2, 2)\n",
    "plt.pie(counts, labels=counts.index, autopct='%0.0f%%', colors=['#5D3FD3', '#73B748'])\n",
    "plt.title(\"Percentage Distribution of 'ad' and 'psa' Groups\")\n",
    "plt.legend(counts.index, loc=\"best\")\n",
    "\n",
    "# Adjust layout\n",
    "plt.tight_layout()\n",
    "\n",
    "# Show the plots\n",
    "plt.show()\n"
   ]
  },
  {
   "cell_type": "code",
   "execution_count": 27,
   "id": "b27ceeed-b31a-4da5-be65-334931d2f095",
   "metadata": {},
   "outputs": [
    {
     "name": "stderr",
     "output_type": "stream",
     "text": [
      "C:\\Users\\Acer\\AppData\\Local\\Temp\\ipykernel_11716\\3781066011.py:11: FutureWarning: \n",
      "\n",
      "Passing `palette` without assigning `hue` is deprecated and will be removed in v0.14.0. Assign the `x` variable to `hue` and set `legend=False` for the same effect.\n",
      "\n",
      "  sns.countplot(x=variable, data=df_cat, palette=['#FF6F61','#78dbe2'])\n"
     ]
    },
    {
     "data": {
      "image/png": "[encoded data removed]",
      "text/plain": [
       "<Figure size 1200x600 with 2 Axes>"
      ]
     },
     "metadata": {},
     "output_type": "display_data"
    }
   ],
   "source": [
    "import matplotlib.pyplot as plt\n",
    "import seaborn as sns\n",
    "\n",
    "variable = 'converted'\n",
    "# Create a figure\n",
    "plt.figure(figsize=(12, 6))\n",
    "counts = df_cat[variable].value_counts()\n",
    "\n",
    "# Count plot\n",
    "plt.subplot(1, 2, 1)\n",
    "sns.countplot(x=variable, data=df_cat, palette=['#FF6F61','#78dbe2'])\n",
    "plt.title(\"Count of Conversion Status\")\n",
    "plt.xlabel(\"\")\n",
    "plt.ylabel(\"\")\n",
    "plt.legend(counts.index, loc=\"best\")\n",
    "plt.gca().yaxis.set_major_formatter(FuncFormatter(thousands_formatter))\n",
    "\n",
    "# Pie chart\n",
    "plt.subplot(1, 2, 2)\n",
    "plt.pie(counts, labels=counts.index, autopct='%0.1f%%', colors=['#FF6F61','#78dbe2'])\n",
    "plt.title(\"Conversion Status Distribution\")\n",
    "plt.legend(counts.index, loc=\"best\")\n",
    "\n",
    "# Adjust layout\n",
    "plt.tight_layout()\n",
    "\n",
    "# Show the plots\n",
    "plt.show()\n"
   ]
  },
  {
   "cell_type": "code",
   "execution_count": 28,
   "id": "4b4dac9f-e8ac-4ee1-8b36-3985c292a68a",
   "metadata": {},
   "outputs": [
    {
     "name": "stderr",
     "output_type": "stream",
     "text": [
      "C:\\Users\\Acer\\AppData\\Local\\Temp\\ipykernel_11716\\1080315462.py:8: SettingWithCopyWarning: \n",
      "A value is trying to be set on a copy of a slice from a DataFrame.\n",
      "Try using .loc[row_indexer,col_indexer] = value instead\n",
      "\n",
      "See the caveats in the documentation: https://pandas.pydata.org/pandas-docs/stable/user_guide/indexing.html#returning-a-view-versus-a-copy\n",
      "  df_cat[variable] = pd.Categorical(df_cat[variable], categories=days_order, ordered=True)\n"
     ]
    },
    {
     "data": {
      "image/png": "[encoded data removed]",
      "text/plain": [
       "<Figure size 1200x600 with 1 Axes>"
      ]
     },
     "metadata": {},
     "output_type": "display_data"
    }
   ],
   "source": [
    "import matplotlib.pyplot as plt\n",
    "import seaborn as sns\n",
    "import pandas as pd\n",
    "\n",
    "variable = 'most ads day'\n",
    "\n",
    "days_order = ['Monday', 'Tuesday', 'Wednesday', 'Thursday', 'Friday', 'Saturday', 'Sunday']\n",
    "df_cat[variable] = pd.Categorical(df_cat[variable], categories=days_order, ordered=True)\n",
    "plt.figure(figsize=(12, 6))\n",
    "plt.subplot(1, 2, 1)\n",
    "sns.countplot(x=variable, data=df_cat, order=days_order, color  = '#3b3b3b')\n",
    "plt.xlabel(\"\")\n",
    "plt.ylabel(\"\")\n",
    "plt.gca().yaxis.set_major_formatter(FuncFormatter(thousands_formatter))\n",
    "plt.title(\"Count of Advertisements by Day of the Week\")\n",
    "\n",
    "# Adjust layout\n",
    "plt.tight_layout()\n",
    "\n",
    "# Show the plots\n",
    "plt.show()"
   ]
  },
  {
   "cell_type": "code",
   "execution_count": 29,
   "id": "d65b35e9-3ca1-49de-8655-aa32d26c23d4",
   "metadata": {},
   "outputs": [
    {
     "name": "stderr",
     "output_type": "stream",
     "text": [
      "C:\\Users\\Acer\\AppData\\Local\\Temp\\ipykernel_11716\\1825841816.py:17: FutureWarning: \n",
      "\n",
      "Passing `palette` without assigning `hue` is deprecated and will be removed in v0.14.0. Assign the `x` variable to `hue` and set `legend=False` for the same effect.\n",
      "\n",
      "  ax = sns.countplot(x=variable, data=df_cat, order=hours_order, palette=colors)\n"
     ]
    },
    {
     "data": {
      "image/png": "[encoded data removed]",
      "text/plain": [
       "<Figure size 1000x600 with 1 Axes>"
      ]
     },
     "metadata": {},
     "output_type": "display_data"
    }
   ],
   "source": [
    "variable = 'most ads hour'\n",
    "\n",
    "# Ensure the hours are ordered correctly\n",
    "hours_order = list(range(24))\n",
    "\n",
    "# Count the occurrences of each hour\n",
    "counts = df_cat[variable].value_counts().reindex(hours_order, fill_value=0).sort_values(ascending=False)\n",
    "top5_hours = counts.head(5).index\n",
    "\n",
    "# Create a color palette with default and darker colors for top 5\n",
    "colors = ['#FF9999' if hour not in top5_hours else '#FF3333' for hour in hours_order]\n",
    "\n",
    "# Create a figure\n",
    "plt.figure(figsize=(10, 6))\n",
    "\n",
    "# Count plot with custom colors for the top 5 highest columns\n",
    "ax = sns.countplot(x=variable, data=df_cat, order=hours_order, palette=colors)\n",
    "plt.xlabel(\"\")\n",
    "plt.ylabel(\"\")\n",
    "plt.gca().yaxis.set_major_formatter(FuncFormatter(thousands_formatter))\n",
    "plt.title('Count of Advertisements by Hour of the Day')\n",
    "\n",
    "# Adjust layout\n",
    "plt.tight_layout()\n",
    "\n",
    "# Show the plots\n",
    "plt.show()"
   ]
  },
  {
   "cell_type": "code",
   "execution_count": 30,
   "id": "7bcad755-b804-4c29-946b-639af1065a89",
   "metadata": {},
   "outputs": [
    {
     "data": {
      "image/png": "[encoded data removed]",
      "text/plain": [
       "<Figure size 600x400 with 2 Axes>"
      ]
     },
     "metadata": {},
     "output_type": "display_data"
    }
   ],
   "source": [
    "variable = 'total ads'\n",
    "\n",
    "plt.figure(figsize=(6, 4))\n",
    "# Histogram\n",
    "plt.subplot(1, 2, 1)\n",
    "sns.histplot(x=variable, data=df)\n",
    "plt.gca().yaxis.set_major_formatter(FuncFormatter(thousands_formatter))\n",
    "plt.ylabel(\"\")\n",
    "plt.title(f'Histogram - {variable}')\n",
    "\n",
    "# Boxplot\n",
    "plt.subplot(1, 2, 2)\n",
    "sns.boxplot(y=variable, data=df)\n",
    "plt.title(f'Boxplot - {variable}')\n",
    "\n",
    "# Adjust layout\n",
    "plt.tight_layout(pad = 2)\n",
    "\n",
    "# Show the plots\n",
    "plt.show()"
   ]
  },
  {
   "cell_type": "code",
   "execution_count": 31,
   "id": "dc701862-2493-46ad-8c6b-01502ca59a51",
   "metadata": {},
   "outputs": [
    {
     "data": {
      "image/png": "[encoded data removed]",
      "text/plain": [
       "<Figure size 600x400 with 2 Axes>"
      ]
     },
     "metadata": {},
     "output_type": "display_data"
    }
   ],
   "source": [
    "variable = 'total ads'\n",
    "\n",
    "plt.figure(figsize=(6, 4))\n",
    "# Histogram\n",
    "plt.subplot(1, 2, 1)\n",
    "# Filtering the data for a value close to 75th percentile only for better visualization\n",
    "sns.histplot(x=variable, data=df[df['total ads'] <= 50],bins = 10)\n",
    "plt.xticks(range(0, 51, 10))\n",
    "plt.ylabel(\"\")\n",
    "plt.gca().yaxis.set_major_formatter(FuncFormatter(thousands_formatter))\n",
    "plt.title(f'Histogram - {variable}')\n",
    "\n",
    "# Boxplot\n",
    "plt.subplot(1, 2, 2)\n",
    "sns.boxplot(y=variable, data=df[df['total ads'] <= 50])\n",
    "plt.title(f'Boxplot - {variable}')\n",
    "\n",
    "# Adjust layout\n",
    "plt.tight_layout(pad = 2)\n",
    "\n",
    "# Show the plots\n",
    "plt.show()"
   ]
  },
  {
   "cell_type": "markdown",
   "id": "7bd3fe0b-777b-4c92-9e25-f6bc5e5ec04f",
   "metadata": {},
   "source": [
    "# T-Test"
   ]
  },
  {
   "cell_type": "code",
   "execution_count": 32,
   "id": "e5fc8ab1-1bfa-45d6-82bd-be2002c4af50",
   "metadata": {},
   "outputs": [
    {
     "name": "stdout",
     "output_type": "stream",
     "text": [
      "T-statistic: 7.37040597428566\n",
      "p-value: 1.7033052627831264e-13\n",
      "We reject the null hypothesis (H₀).\n",
      "The mean conversions for 'ad' and 'psa' groups are different.\n"
     ]
    }
   ],
   "source": [
    "from scipy import stats\n",
    "\n",
    "ad_conversions = df[df['test group'] == 'ad']['converted'].tolist()\n",
    "psa_conversions = df[df['test group'] == 'psa']['converted'].tolist()\n",
    "\n",
    "t_stat, p_value = stats.ttest_ind(ad_conversions, psa_conversions)\n",
    "\n",
    "print(f'T-statistic: {t_stat}')\n",
    "print(f'p-value: {p_value}')\n",
    "\n",
    "alpha = 0.05\n",
    "if p_value < alpha:\n",
    "    print(\"We reject the null hypothesis (H₀).\\nThe mean conversions for 'ad' and 'psa' groups are different.\")\n",
    "else:\n",
    "    print(\"We fail to reject the null hypothesis (H₀).\\nThe mean conversions for 'ad' and 'psa' groups are not different.\")\n"
   ]
  },
  {
   "cell_type": "markdown",
   "id": "9755655b-0138-4de7-a10a-1d2ec74521d0",
   "metadata": {},
   "source": [
    "# Crosstab for test group and conversion\n"
   ]
  },
  {
   "cell_type": "markdown",
   "id": "839c4473-58b2-4e11-9b30-afcf6bca1de5",
   "metadata": {},
   "source": [
    "* Define a function to apply color based on the column name"
   ]
  },
  {
   "cell_type": "code",
   "execution_count": 37,
   "id": "74ddb3e9-bcb1-4726-a8b7-456ceb76296a",
   "metadata": {},
   "outputs": [],
   "source": [
    "def highlight_columns(s):\n",
    "    color = 'background-color: '\n",
    "    if s.name == False:\n",
    "        return [color + 'darkred'] * len(s)\n",
    "    elif s.name == True:\n",
    "        return [color + 'darkgreen'] * len(s)\n",
    "    else:\n",
    "        return [''] * len(s)"
   ]
  },
  {
   "cell_type": "code",
   "execution_count": 38,
   "id": "8b7a2a5a-f2c8-4b28-afb2-613d0b08a0da",
   "metadata": {},
   "outputs": [
    {
     "data": {
      "text/html": [
       "<style type=\"text/css\">\n",
       "#T_4ec2c_row0_col0, #T_4ec2c_row1_col0 {\n",
       "  background-color: darkred;\n",
       "}\n",
       "#T_4ec2c_row0_col1, #T_4ec2c_row1_col1 {\n",
       "  background-color: darkgreen;\n",
       "}\n",
       "</style>\n",
       "<table id=\"T_4ec2c\">\n",
       "  <thead>\n",
       "    <tr>\n",
       "      <th class=\"index_name level0\" >converted</th>\n",
       "      <th id=\"T_4ec2c_level0_col0\" class=\"col_heading level0 col0\" >False</th>\n",
       "      <th id=\"T_4ec2c_level0_col1\" class=\"col_heading level0 col1\" >True</th>\n",
       "    </tr>\n",
       "    <tr>\n",
       "      <th class=\"index_name level0\" >test group</th>\n",
       "      <th class=\"blank col0\" >&nbsp;</th>\n",
       "      <th class=\"blank col1\" >&nbsp;</th>\n",
       "    </tr>\n",
       "  </thead>\n",
       "  <tbody>\n",
       "    <tr>\n",
       "      <th id=\"T_4ec2c_level0_row0\" class=\"row_heading level0 row0\" >ad</th>\n",
       "      <td id=\"T_4ec2c_row0_col0\" class=\"data row0 col0\" >0.974453</td>\n",
       "      <td id=\"T_4ec2c_row0_col1\" class=\"data row0 col1\" >0.025547</td>\n",
       "    </tr>\n",
       "    <tr>\n",
       "      <th id=\"T_4ec2c_level0_row1\" class=\"row_heading level0 row1\" >psa</th>\n",
       "      <td id=\"T_4ec2c_row1_col0\" class=\"data row1 col0\" >0.982146</td>\n",
       "      <td id=\"T_4ec2c_row1_col1\" class=\"data row1 col1\" >0.017854</td>\n",
       "    </tr>\n",
       "  </tbody>\n",
       "</table>\n"
      ],
      "text/plain": [
       "<pandas.io.formats.style.Styler at 0x1fd69d22d90>"
      ]
     },
     "execution_count": 38,
     "metadata": {},
     "output_type": "execute_result"
    }
   ],
   "source": [
    "ct_conversion_test_group = pd.crosstab(df['test group'], df['converted'], normalize='index')\n",
    "style = ct_conversion_test_group.style.apply(highlight_columns, axis=0)\n",
    "style"
   ]
  },
  {
   "cell_type": "markdown",
   "id": "dcde5393-cb83-4515-9fe4-cc8d8bf4072d",
   "metadata": {},
   "source": [
    "# Z-Test"
   ]
  },
  {
   "cell_type": "code",
   "execution_count": 39,
   "id": "356abcc2-7a22-4ce8-9cce-1056f2d95946",
   "metadata": {},
   "outputs": [
    {
     "name": "stdout",
     "output_type": "stream",
     "text": [
      "Z-statistic: 7.3701\n",
      "P-value: 0.0000\n",
      "The difference in conversion rates is statistically significant.\n"
     ]
    }
   ],
   "source": [
    "import numpy as np\n",
    "import statsmodels.api as sm\n",
    "\n",
    "# Conversion data\n",
    "conversions_ad = np.sum(df[df['test group'] == 'ad']['converted'])\n",
    "total_ad = len(df[df['test group'] == 'ad'])\n",
    "conversions_psa = np.sum(df[df['test group'] == 'psa']['converted'])\n",
    "total_psa = len(df[df['test group'] == 'psa'])\n",
    "\n",
    "# Conducting z-test for proportions\n",
    "count = np.array([conversions_ad, conversions_psa])\n",
    "nobs = np.array([total_ad, total_psa])\n",
    "\n",
    "# Performing the test\n",
    "z_stat, p_value = sm.stats.proportions_ztest(count, nobs)\n",
    "\n",
    "print(f\"Z-statistic: {z_stat:.4f}\")\n",
    "print(f\"P-value: {p_value:.4f}\")\n",
    "\n",
    "# Interpretation of the result\n",
    "alpha = 0.05  # significance level\n",
    "if p_value < alpha:\n",
    "    print(\"The difference in conversion rates is statistically significant.\")\n",
    "else:\n",
    "    print(\"The difference in conversion rates is not statistically significant.\")"
   ]
  },
  {
   "cell_type": "markdown",
   "id": "2ccf2eda-46ad-4eef-8c68-1328297f7b4d",
   "metadata": {},
   "source": [
    "# Z-Test manualy"
   ]
  },
  {
   "cell_type": "code",
   "execution_count": 40,
   "id": "96445244-2428-41ce-8f57-95ec2550ac94",
   "metadata": {},
   "outputs": [
    {
     "name": "stdout",
     "output_type": "stream",
     "text": [
      "Z-statistic: 7.3701\n",
      "P-value: 0.0000\n",
      "The difference in conversion rates is statistically significant.\n"
     ]
    }
   ],
   "source": [
    "from scipy.stats import norm\n",
    "\n",
    "\n",
    "group_ad = df[df['test group'] == 'ad']['converted']\n",
    "group_psa = df[df['test group'] == 'psa']['converted']\n",
    "\n",
    "n_ad = len(group_ad)\n",
    "n_psa = len(group_psa)\n",
    "success_ad = np.sum(group_ad)\n",
    "success_psa = np.sum(group_psa)\n",
    "\n",
    "# Proportions\n",
    "p_ad = success_ad / n_ad\n",
    "p_psa = success_psa / n_psa\n",
    "\n",
    "# Combined proportion\n",
    "p_combined = (success_ad + success_psa) / (n_ad + n_psa)\n",
    "\n",
    "# Z-test for proportions formula\n",
    "z_stat = (p_ad - p_psa) / np.sqrt(p_combined * (1 - p_combined) * (1/n_ad + 1/n_psa))\n",
    "\n",
    "# Calculate p-value\n",
    "p_value = 2 * (1 - norm.cdf(abs(z_stat)))\n",
    "\n",
    "# Print results\n",
    "print(f\"Z-statistic: {z_stat:.4f}\")\n",
    "print(f\"P-value: {p_value:.4f}\")\n",
    "alpha = 0.05  # significance level\n",
    "if p_value < alpha:\n",
    "    print(\"The difference in conversion rates is statistically significant.\")\n",
    "else:\n",
    "    print(\"The difference in conversion rates is not statistically significant.\")"
   ]
  },
  {
   "cell_type": "markdown",
   "id": "2dc00351-bb3a-4b87-afdb-dbbd6c89ccbc",
   "metadata": {},
   "source": [
    "# Calculating effect size (Cohen's d)\n"
   ]
  },
  {
   "cell_type": "code",
   "execution_count": 41,
   "id": "76b4a5af-70fe-4b17-b274-0bfee8faded2",
   "metadata": {},
   "outputs": [
    {
     "name": "stdout",
     "output_type": "stream",
     "text": [
      "Effect size = 0.05\n",
      "Small effect: the difference between 'ad' and 'psa' conversions is negligible\n"
     ]
    }
   ],
   "source": [
    "import numpy as np\n",
    "import matplotlib.pyplot as plt\n",
    "\n",
    "def cohen_d(x, y):\n",
    "    return (np.mean(x) - np.mean(y)) / np.sqrt(((np.std(x) ** 2) + (np.std(y) ** 2)) / 2)\n",
    "\n",
    "ad_conversions = df[df['test group'] == 'ad']['converted'].tolist()\n",
    "psa_conversions = df[df['test group'] == 'psa']['converted'].tolist()\n",
    "effect_size = cohen_d(ad_conversions, psa_conversions)\n",
    "print(f\"Effect size = {effect_size:.1}\")\n",
    "if abs(effect_size) < 0.2:\n",
    "    print(\"Small effect: the difference between 'ad' and 'psa' conversions is negligible\")\n",
    "elif abs(effect_size) < 0.5:\n",
    "    print(\"Medium effect: the difference between 'ad' and 'psa' conversions is moderate\")\n",
    "elif abs(effect_size) < 0.8:\n",
    "    print(\"Large effect: the difference between 'ad' and 'psa' conversions is significant\")\n",
    "else:\n",
    "    print(\"Very large effect: the difference between 'ad' and 'psa' conversions is very significant\")\n"
   ]
  },
  {
   "cell_type": "code",
   "execution_count": 42,
   "id": "29a6ef6c-519b-41ef-b415-a0f47eef63bb",
   "metadata": {},
   "outputs": [],
   "source": [
    "df_ad = df[df['test group'] == 'ad']\n",
    "df_psa = df[df['test group'] == 'psa']"
   ]
  },
  {
   "cell_type": "code",
   "execution_count": 43,
   "id": "2a71ead5-602b-42c6-9169-4ffd9356b126",
   "metadata": {},
   "outputs": [],
   "source": [
    "# ct_conversion_day = pd.crosstab(df['most ads day'], df['converted'], normalize = 'index')\n",
    "# ct_conversion_day.sort_values(by=True, ascending=False)"
   ]
  },
  {
   "cell_type": "markdown",
   "id": "fd5632f2-352f-48b9-9a2f-e423bda7c96e",
   "metadata": {},
   "source": [
    "# Create and style crosstab for 'ad'"
   ]
  },
  {
   "cell_type": "code",
   "execution_count": 44,
   "id": "49cf89de-9610-4d25-9771-4ecf4a3c0624",
   "metadata": {},
   "outputs": [
    {
     "name": "stdout",
     "output_type": "stream",
     "text": [
      "For group AD:\n"
     ]
    },
    {
     "data": {
      "text/html": [
       "<style type=\"text/css\">\n",
       "#T_b1e39_row0_col0, #T_b1e39_row1_col0, #T_b1e39_row2_col0, #T_b1e39_row3_col0, #T_b1e39_row4_col0, #T_b1e39_row5_col0, #T_b1e39_row6_col0 {\n",
       "  background-color: darkred;\n",
       "}\n",
       "#T_b1e39_row0_col1, #T_b1e39_row1_col1, #T_b1e39_row2_col1, #T_b1e39_row3_col1, #T_b1e39_row4_col1, #T_b1e39_row5_col1, #T_b1e39_row6_col1 {\n",
       "  background-color: darkgreen;\n",
       "}\n",
       "</style>\n",
       "<table id=\"T_b1e39\">\n",
       "  <thead>\n",
       "    <tr>\n",
       "      <th class=\"index_name level0\" >converted</th>\n",
       "      <th id=\"T_b1e39_level0_col0\" class=\"col_heading level0 col0\" >False</th>\n",
       "      <th id=\"T_b1e39_level0_col1\" class=\"col_heading level0 col1\" >True</th>\n",
       "    </tr>\n",
       "    <tr>\n",
       "      <th class=\"index_name level0\" >most ads day</th>\n",
       "      <th class=\"blank col0\" >&nbsp;</th>\n",
       "      <th class=\"blank col1\" >&nbsp;</th>\n",
       "    </tr>\n",
       "  </thead>\n",
       "  <tbody>\n",
       "    <tr>\n",
       "      <th id=\"T_b1e39_level0_row0\" class=\"row_heading level0 row0\" >Monday</th>\n",
       "      <td id=\"T_b1e39_row0_col0\" class=\"data row0 col0\" >0.966759</td>\n",
       "      <td id=\"T_b1e39_row0_col1\" class=\"data row0 col1\" >0.033241</td>\n",
       "    </tr>\n",
       "    <tr>\n",
       "      <th id=\"T_b1e39_level0_row1\" class=\"row_heading level0 row1\" >Tuesday</th>\n",
       "      <td id=\"T_b1e39_row1_col0\" class=\"data row1 col0\" >0.969560</td>\n",
       "      <td id=\"T_b1e39_row1_col1\" class=\"data row1 col1\" >0.030440</td>\n",
       "    </tr>\n",
       "    <tr>\n",
       "      <th id=\"T_b1e39_level0_row2\" class=\"row_heading level0 row2\" >Wednesday</th>\n",
       "      <td id=\"T_b1e39_row2_col0\" class=\"data row2 col0\" >0.974644</td>\n",
       "      <td id=\"T_b1e39_row2_col1\" class=\"data row2 col1\" >0.025356</td>\n",
       "    </tr>\n",
       "    <tr>\n",
       "      <th id=\"T_b1e39_level0_row3\" class=\"row_heading level0 row3\" >Sunday</th>\n",
       "      <td id=\"T_b1e39_row3_col0\" class=\"data row3 col0\" >0.975380</td>\n",
       "      <td id=\"T_b1e39_row3_col1\" class=\"data row3 col1\" >0.024620</td>\n",
       "    </tr>\n",
       "    <tr>\n",
       "      <th id=\"T_b1e39_level0_row4\" class=\"row_heading level0 row4\" >Friday</th>\n",
       "      <td id=\"T_b1e39_row4_col0\" class=\"data row4 col0\" >0.977535</td>\n",
       "      <td id=\"T_b1e39_row4_col1\" class=\"data row4 col1\" >0.022465</td>\n",
       "    </tr>\n",
       "    <tr>\n",
       "      <th id=\"T_b1e39_level0_row5\" class=\"row_heading level0 row5\" >Thursday</th>\n",
       "      <td id=\"T_b1e39_row5_col0\" class=\"data row5 col0\" >0.978363</td>\n",
       "      <td id=\"T_b1e39_row5_col1\" class=\"data row5 col1\" >0.021637</td>\n",
       "    </tr>\n",
       "    <tr>\n",
       "      <th id=\"T_b1e39_level0_row6\" class=\"row_heading level0 row6\" >Saturday</th>\n",
       "      <td id=\"T_b1e39_row6_col0\" class=\"data row6 col0\" >0.978693</td>\n",
       "      <td id=\"T_b1e39_row6_col1\" class=\"data row6 col1\" >0.021307</td>\n",
       "    </tr>\n",
       "  </tbody>\n",
       "</table>\n"
      ],
      "text/plain": [
       "<pandas.io.formats.style.Styler at 0x1fd707221d0>"
      ]
     },
     "execution_count": 44,
     "metadata": {},
     "output_type": "execute_result"
    }
   ],
   "source": [
    "ct_conversion_day_ad = pd.crosstab(df_ad['most ads day'], df_ad['converted'], normalize='index')\n",
    "ct_conversion_day_ad_sorted = ct_conversion_day_ad.sort_values(by=True, ascending=False)\n",
    "print(\"For group AD:\")\n",
    "styled_ct_ad = ct_conversion_day_ad_sorted.style.apply(highlight_columns, axis=0)\n",
    "styled_ct_ad"
   ]
  },
  {
   "cell_type": "markdown",
   "id": "5df630be-60e7-4b90-ab85-289db07aa36c",
   "metadata": {},
   "source": [
    "# Create and style crosstab for 'psa'\n"
   ]
  },
  {
   "cell_type": "code",
   "execution_count": 45,
   "id": "1095c4a5-99a9-4ba3-8837-fc78a228ffa2",
   "metadata": {},
   "outputs": [
    {
     "name": "stdout",
     "output_type": "stream",
     "text": [
      "For group PSA:\n"
     ]
    },
    {
     "data": {
      "text/html": [
       "<style type=\"text/css\">\n",
       "#T_34bae_row0_col0, #T_34bae_row1_col0, #T_34bae_row2_col0, #T_34bae_row3_col0, #T_34bae_row4_col0, #T_34bae_row5_col0, #T_34bae_row6_col0 {\n",
       "  background-color: darkred;\n",
       "}\n",
       "#T_34bae_row0_col1, #T_34bae_row1_col1, #T_34bae_row2_col1, #T_34bae_row3_col1, #T_34bae_row4_col1, #T_34bae_row5_col1, #T_34bae_row6_col1 {\n",
       "  background-color: darkgreen;\n",
       "}\n",
       "</style>\n",
       "<table id=\"T_34bae\">\n",
       "  <thead>\n",
       "    <tr>\n",
       "      <th class=\"index_name level0\" >converted</th>\n",
       "      <th id=\"T_34bae_level0_col0\" class=\"col_heading level0 col0\" >False</th>\n",
       "      <th id=\"T_34bae_level0_col1\" class=\"col_heading level0 col1\" >True</th>\n",
       "    </tr>\n",
       "    <tr>\n",
       "      <th class=\"index_name level0\" >most ads day</th>\n",
       "      <th class=\"blank col0\" >&nbsp;</th>\n",
       "      <th class=\"blank col1\" >&nbsp;</th>\n",
       "    </tr>\n",
       "  </thead>\n",
       "  <tbody>\n",
       "    <tr>\n",
       "      <th id=\"T_34bae_level0_row0\" class=\"row_heading level0 row0\" >Monday</th>\n",
       "      <td id=\"T_34bae_row0_col0\" class=\"data row0 col0\" >0.977441</td>\n",
       "      <td id=\"T_34bae_row0_col1\" class=\"data row0 col1\" >0.022559</td>\n",
       "    </tr>\n",
       "    <tr>\n",
       "      <th id=\"T_34bae_level0_row1\" class=\"row_heading level0 row1\" >Sunday</th>\n",
       "      <td id=\"T_34bae_row1_col0\" class=\"data row1 col0\" >0.979405</td>\n",
       "      <td id=\"T_34bae_row1_col1\" class=\"data row1 col1\" >0.020595</td>\n",
       "    </tr>\n",
       "    <tr>\n",
       "      <th id=\"T_34bae_level0_row2\" class=\"row_heading level0 row2\" >Thursday</th>\n",
       "      <td id=\"T_34bae_row2_col0\" class=\"data row2 col0\" >0.979770</td>\n",
       "      <td id=\"T_34bae_row2_col1\" class=\"data row2 col1\" >0.020230</td>\n",
       "    </tr>\n",
       "    <tr>\n",
       "      <th id=\"T_34bae_level0_row3\" class=\"row_heading level0 row3\" >Friday</th>\n",
       "      <td id=\"T_34bae_row3_col0\" class=\"data row3 col0\" >0.983697</td>\n",
       "      <td id=\"T_34bae_row3_col1\" class=\"data row3 col1\" >0.016303</td>\n",
       "    </tr>\n",
       "    <tr>\n",
       "      <th id=\"T_34bae_level0_row4\" class=\"row_heading level0 row4\" >Wednesday</th>\n",
       "      <td id=\"T_34bae_row4_col0\" class=\"data row4 col0\" >0.984241</td>\n",
       "      <td id=\"T_34bae_row4_col1\" class=\"data row4 col1\" >0.015759</td>\n",
       "    </tr>\n",
       "    <tr>\n",
       "      <th id=\"T_34bae_level0_row5\" class=\"row_heading level0 row5\" >Tuesday</th>\n",
       "      <td id=\"T_34bae_row5_col0\" class=\"data row5 col0\" >0.985552</td>\n",
       "      <td id=\"T_34bae_row5_col1\" class=\"data row5 col1\" >0.014448</td>\n",
       "    </tr>\n",
       "    <tr>\n",
       "      <th id=\"T_34bae_level0_row6\" class=\"row_heading level0 row6\" >Saturday</th>\n",
       "      <td id=\"T_34bae_row6_col0\" class=\"data row6 col0\" >0.986004</td>\n",
       "      <td id=\"T_34bae_row6_col1\" class=\"data row6 col1\" >0.013996</td>\n",
       "    </tr>\n",
       "  </tbody>\n",
       "</table>\n"
      ],
      "text/plain": [
       "<pandas.io.formats.style.Styler at 0x1fd6c52ca90>"
      ]
     },
     "execution_count": 45,
     "metadata": {},
     "output_type": "execute_result"
    }
   ],
   "source": [
    "ct_conversion_day_psa = pd.crosstab(df_psa['most ads day'], df_psa['converted'], normalize='index')\n",
    "ct_conversion_day_psa_sorted = ct_conversion_day_psa.sort_values(by=True, ascending=False)\n",
    "print(\"For group PSA:\")\n",
    "styled_ct_psa = ct_conversion_day_psa_sorted.style.apply(highlight_columns, axis=0)\n",
    "styled_ct_psa"
   ]
  },
  {
   "cell_type": "markdown",
   "id": "3bd0d46f-20fc-4786-b59d-7d4fdaeebb02",
   "metadata": {},
   "source": [
    "# Chi Squared Test for independence 'most ads day' and 'converted'"
   ]
  },
  {
   "cell_type": "code",
   "execution_count": 46,
   "id": "8e889602-5573-450c-b1dc-e37f39d13b4c",
   "metadata": {},
   "outputs": [
    {
     "name": "stdout",
     "output_type": "stream",
     "text": [
      "This Test is for group AD\n",
      "\n",
      "Chi-square statistic: 412.7943\n",
      "P-value: 0.0000\n",
      "We reject the null hypothesis (H₀).\n",
      "The variables 'most ads day' and 'converted' are dependent.\n"
     ]
    }
   ],
   "source": [
    "# Create the crosstab dataframe\n",
    "ct_conversion_day_ad = pd.crosstab(df_ad['most ads day'], df_ad['converted'])\n",
    "\n",
    "# Perform chi-square test\n",
    "chi2_stat, p_value, _, _ = stats.chi2_contingency(ct_conversion_day_ad)\n",
    "\n",
    "print(\"This Test is for group AD\\n\")\n",
    "print(f\"Chi-square statistic: {chi2_stat:.4f}\")\n",
    "print(f\"P-value: {p_value:.4f}\")\n",
    "\n",
    "# Interpret the result\n",
    "alpha = 0.05  # significance level\n",
    "if p_value < alpha:\n",
    "    print(\"We reject the null hypothesis (H₀).\\nThe variables 'most ads day' and 'converted' are dependent.\")\n",
    "else:\n",
    "    print(\"We fail to reject the null hypothesis (H₀).\\nThe variables 'most ads day' and 'converted' are independent.\")"
   ]
  },
  {
   "cell_type": "code",
   "execution_count": 47,
   "id": "77214176-d2a6-4747-ada8-0267ac7a7afe",
   "metadata": {},
   "outputs": [
    {
     "name": "stdout",
     "output_type": "stream",
     "text": [
      "This Test is for group PSA\n",
      "\n",
      "Chi-square statistic: 12.7329\n",
      "P-value: 0.0475\n",
      "We reject the null hypothesis (H₀).\n",
      "The variables 'most ads day' and 'converted' are dependent.\n"
     ]
    }
   ],
   "source": [
    "# Create the crosstab dataframe\n",
    "ct_conversion_day_psa = pd.crosstab(df_psa['most ads day'], df_psa['converted'])\n",
    "\n",
    "# Perform chi-square test\n",
    "chi2_stat, p_value, _, _ = stats.chi2_contingency(ct_conversion_day_psa)\n",
    "\n",
    "print(\"This Test is for group PSA\\n\")\n",
    "print(f\"Chi-square statistic: {chi2_stat:.4f}\")\n",
    "print(f\"P-value: {p_value:.4f}\")\n",
    "\n",
    "# Interpret the result\n",
    "alpha = 0.05  # significance level\n",
    "if p_value < alpha:\n",
    "    print(\"We reject the null hypothesis (H₀).\\nThe variables 'most ads day' and 'converted' are dependent.\")\n",
    "else:\n",
    "    print(\"We fail to reject the null hypothesis (H₀).\\nThe variables 'most ads day' and 'converted' are independent.\")"
   ]
  },
  {
   "cell_type": "markdown",
   "id": "67d8a31f-a0e2-41ea-a2d1-7f0d0b35d147",
   "metadata": {},
   "source": [
    "# Conversion rate hamematats monday conversion rate AD i hamar"
   ]
  },
  {
   "cell_type": "code",
   "execution_count": 48,
   "id": "166fc226-0bb8-4cc5-9123-f09ae63dc33c",
   "metadata": {},
   "outputs": [
    {
     "name": "stdout",
     "output_type": "stream",
     "text": [
      "\n",
      "Test Group = AD\n",
      "\n",
      "Conversion Rate (True) for Monday:\n",
      "0.033241\n",
      "Relative Percentage of Overall Conversion Rate compared to Monday:\n",
      "-23.15%\n",
      "Relative Percentage of Weekend Conversion Rate compared to Monday:\n",
      "-30.92%\n",
      "Relative Percentage of Weekday Conversion Rate compared to Monday:\n",
      "-19.89%\n"
     ]
    }
   ],
   "source": [
    "import pandas as pd\n",
    "import numpy as np\n",
    "\n",
    "ct_conversion_day_ad = pd.crosstab(df_ad['most ads day'], df_ad['converted'], normalize='index')\n",
    "\n",
    "# Calculate overall conversion rate for 'True' across all days\n",
    "overall_conversion_rate = df_ad['converted'].mean()\n",
    "\n",
    "# Calculate conversion rate for 'True' for Monday, handling missing days\n",
    "monday_conversion_rate = ct_conversion_day_ad.loc['Monday', True] if 'Monday' in ct_conversion_day_ad.index else np.nan\n",
    "\n",
    "# Calculate conversion rates for 'True' for weekends (Saturday and Sunday) and weekdays (Monday to Friday)\n",
    "weekend_days = ['Saturday', 'Sunday']\n",
    "weekday_days = ['Monday', 'Tuesday', 'Wednesday', 'Thursday', 'Friday']\n",
    "\n",
    "weekend_conversion_rate = (\n",
    "    ct_conversion_day_ad.loc[weekend_days, True].mean()\n",
    "    if any(day in ct_conversion_day_ad.index for day in weekend_days) else np.nan\n",
    ")\n",
    "\n",
    "weekday_conversion_rate = (\n",
    "    ct_conversion_day_ad.loc[weekday_days, True].mean()\n",
    "    if any(day in ct_conversion_day_ad.index for day in weekday_days) else np.nan\n",
    ")\n",
    "\n",
    "# Calculate relative percentages\n",
    "relative_percentage_overall = (\n",
    "    ((overall_conversion_rate - monday_conversion_rate) / monday_conversion_rate) * 100\n",
    "    if pd.notna(monday_conversion_rate) and monday_conversion_rate != 0 else np.nan\n",
    ")\n",
    "\n",
    "relative_percentage_weekend = (\n",
    "    ((weekend_conversion_rate - monday_conversion_rate) / monday_conversion_rate) * 100\n",
    "    if pd.notna(monday_conversion_rate) and monday_conversion_rate != 0 else np.nan\n",
    ")\n",
    "\n",
    "relative_percentage_weekday = (\n",
    "    ((weekday_conversion_rate - monday_conversion_rate) / monday_conversion_rate) * 100\n",
    "    if pd.notna(monday_conversion_rate) and monday_conversion_rate != 0 else np.nan\n",
    ")\n",
    "\n",
    "# Print the results\n",
    "# print(\"Overall Conversion Rate (True) across all days:\")\n",
    "# print(f\"{overall_conversion_rate:.6f}\")\n",
    "\n",
    "print(\"\\nTest Group = AD\\n\\nConversion Rate (True) for Monday:\")\n",
    "print(f\"{monday_conversion_rate:.6f}\")\n",
    "\n",
    "# print(\"\\nConversion Rate (True) for Weekends:\")\n",
    "# print(f\"{weekend_conversion_rate:.6f}\")\n",
    "\n",
    "# print(\"\\nConversion Rate (True) for Weekdays:\")\n",
    "# print(f\"{weekday_conversion_rate:.6f}\")\n",
    "\n",
    "print(\"Relative Percentage of Overall Conversion Rate compared to Monday:\")\n",
    "print(f\"{relative_percentage_overall:.2f}%\" if pd.notna(relative_percentage_overall) else \"NaN\")\n",
    "\n",
    "print(\"Relative Percentage of Weekend Conversion Rate compared to Monday:\")\n",
    "print(f\"{relative_percentage_weekend:.2f}%\" if pd.notna(relative_percentage_weekend) else \"NaN\")\n",
    "\n",
    "print(\"Relative Percentage of Weekday Conversion Rate compared to Monday:\")\n",
    "print(f\"{relative_percentage_weekday:.2f}%\" if pd.notna(relative_percentage_weekday) else \"NaN\")\n"
   ]
  },
  {
   "cell_type": "markdown",
   "id": "c6d73283-699e-4bcf-bcef-ac14c4dbfa5a",
   "metadata": {},
   "source": [
    "# P-Values Matrix for group AD"
   ]
  },
  {
   "cell_type": "code",
   "execution_count": 49,
   "id": "3ad19c57-42f8-4ff8-8828-6575eb8bfff7",
   "metadata": {},
   "outputs": [
    {
     "name": "stdout",
     "output_type": "stream",
     "text": [
      "AD group\n",
      "P-value matrix:\n"
     ]
    },
    {
     "data": {
      "text/html": [
       "<div>\n",
       "<style scoped>\n",
       "    .dataframe tbody tr th:only-of-type {\n",
       "        vertical-align: middle;\n",
       "    }\n",
       "\n",
       "    .dataframe tbody tr th {\n",
       "        vertical-align: top;\n",
       "    }\n",
       "\n",
       "    .dataframe thead th {\n",
       "        text-align: right;\n",
       "    }\n",
       "</style>\n",
       "<table border=\"1\" class=\"dataframe\">\n",
       "  <thead>\n",
       "    <tr style=\"text-align: right;\">\n",
       "      <th></th>\n",
       "      <th>Monday</th>\n",
       "      <th>Tuesday</th>\n",
       "      <th>Wednesday</th>\n",
       "      <th>Thursday</th>\n",
       "      <th>Friday</th>\n",
       "      <th>Saturday</th>\n",
       "      <th>Sunday</th>\n",
       "    </tr>\n",
       "  </thead>\n",
       "  <tbody>\n",
       "    <tr>\n",
       "      <th>Monday</th>\n",
       "      <td>1.000</td>\n",
       "      <td>0.002</td>\n",
       "      <td>0.000</td>\n",
       "      <td>0.000</td>\n",
       "      <td>0.000</td>\n",
       "      <td>0.000</td>\n",
       "      <td>0.000</td>\n",
       "    </tr>\n",
       "    <tr>\n",
       "      <th>Tuesday</th>\n",
       "      <td>0.002</td>\n",
       "      <td>1.000</td>\n",
       "      <td>0.000</td>\n",
       "      <td>0.000</td>\n",
       "      <td>0.000</td>\n",
       "      <td>0.000</td>\n",
       "      <td>0.000</td>\n",
       "    </tr>\n",
       "    <tr>\n",
       "      <th>Wednesday</th>\n",
       "      <td>0.000</td>\n",
       "      <td>0.000</td>\n",
       "      <td>1.000</td>\n",
       "      <td>0.000</td>\n",
       "      <td>0.000</td>\n",
       "      <td>0.000</td>\n",
       "      <td>0.354</td>\n",
       "    </tr>\n",
       "    <tr>\n",
       "      <th>Thursday</th>\n",
       "      <td>0.000</td>\n",
       "      <td>0.000</td>\n",
       "      <td>0.000</td>\n",
       "      <td>1.000</td>\n",
       "      <td>0.256</td>\n",
       "      <td>0.663</td>\n",
       "      <td>0.000</td>\n",
       "    </tr>\n",
       "    <tr>\n",
       "      <th>Friday</th>\n",
       "      <td>0.000</td>\n",
       "      <td>0.000</td>\n",
       "      <td>0.000</td>\n",
       "      <td>0.256</td>\n",
       "      <td>1.000</td>\n",
       "      <td>0.110</td>\n",
       "      <td>0.003</td>\n",
       "    </tr>\n",
       "    <tr>\n",
       "      <th>Saturday</th>\n",
       "      <td>0.000</td>\n",
       "      <td>0.000</td>\n",
       "      <td>0.000</td>\n",
       "      <td>0.663</td>\n",
       "      <td>0.110</td>\n",
       "      <td>1.000</td>\n",
       "      <td>0.000</td>\n",
       "    </tr>\n",
       "    <tr>\n",
       "      <th>Sunday</th>\n",
       "      <td>0.000</td>\n",
       "      <td>0.000</td>\n",
       "      <td>0.354</td>\n",
       "      <td>0.000</td>\n",
       "      <td>0.003</td>\n",
       "      <td>0.000</td>\n",
       "      <td>1.000</td>\n",
       "    </tr>\n",
       "  </tbody>\n",
       "</table>\n",
       "</div>"
      ],
      "text/plain": [
       "          Monday Tuesday Wednesday Thursday Friday Saturday Sunday\n",
       "Monday     1.000   0.002     0.000    0.000  0.000    0.000  0.000\n",
       "Tuesday    0.002   1.000     0.000    0.000  0.000    0.000  0.000\n",
       "Wednesday  0.000   0.000     1.000    0.000  0.000    0.000  0.354\n",
       "Thursday   0.000   0.000     0.000    1.000  0.256    0.663  0.000\n",
       "Friday     0.000   0.000     0.000    0.256  1.000    0.110  0.003\n",
       "Saturday   0.000   0.000     0.000    0.663  0.110    1.000  0.000\n",
       "Sunday     0.000   0.000     0.354    0.000  0.003    0.000  1.000"
      ]
     },
     "execution_count": 49,
     "metadata": {},
     "output_type": "execute_result"
    }
   ],
   "source": [
    "import pandas as pd\n",
    "from scipy import stats\n",
    "import numpy as np\n",
    "\n",
    "# Create the crosstab dataframe\n",
    "ct_conversion_day_ad = pd.crosstab(df_ad['most ads day'], df_ad['converted'])\n",
    "\n",
    "# Define the order of days\n",
    "day_order = ['Monday', 'Tuesday', 'Wednesday', 'Thursday', 'Friday', 'Saturday', 'Sunday']\n",
    "\n",
    "# Reindex the crosstab to ensure correct order\n",
    "ct_conversion_day_ad = ct_conversion_day_ad.reindex(day_order)\n",
    "\n",
    "# Initialize an empty DataFrame to store p-values\n",
    "p_value_matrix = pd.DataFrame(index=day_order, columns=day_order)\n",
    "\n",
    "# Loop through each pair of days\n",
    "for day1 in day_order:\n",
    "    for day2 in day_order:\n",
    "        # Create a subtable for the two days\n",
    "        subtable = ct_conversion_day_ad.loc[[day1, day2]]\n",
    "        \n",
    "        # Perform chi-square test\n",
    "        chi2_stat, p_value, dof, expected = stats.chi2_contingency(subtable)\n",
    "        \n",
    "        # Store the p-value in the matrix, formatted to two decimal places\n",
    "        p_value_matrix.loc[day1, day2] = f\"{p_value:.3f}\"\n",
    "\n",
    "# Display the p-value matrix\n",
    "print(\"AD group\\nP-value matrix:\")\n",
    "p_value_matrix"
   ]
  },
  {
   "cell_type": "code",
   "execution_count": 50,
   "id": "35f38548-36da-4a98-8fdb-e0bfc481e3e0",
   "metadata": {},
   "outputs": [
    {
     "name": "stdout",
     "output_type": "stream",
     "text": [
      "\n",
      "Test Group = AD\n",
      "\n",
      "Combined Conversion Rate (True) for Monday and Tuesday:\n",
      "2524.000000\n",
      "\n",
      "Relative Percentage of Overall Conversion Rate compared to Monday and Tuesday:\n",
      "-100.00%\n",
      "\n",
      "Relative Percentage of Weekend Conversion Rate compared to Monday and Tuesday:\n",
      "-26.58%\n",
      "\n",
      "Relative Percentage of Weekday Conversion Rate compared to Monday and Tuesday:\n",
      "-15.08%\n"
     ]
    }
   ],
   "source": [
    "import pandas as pd\n",
    "import numpy as np\n",
    "\n",
    "# Calculate overall conversion rate for 'True' across all days\n",
    "overall_conversion_rate = df_ad['converted'].mean()\n",
    "\n",
    "# Calculate combined conversion rate for 'True' for Monday and Tuesday, handling missing days\n",
    "monday_tuesday_days = ['Monday', 'Tuesday']\n",
    "combined_monday_tuesday_rate = (\n",
    "    ct_conversion_day_ad.loc[monday_tuesday_days, True].mean()\n",
    "    if any(day in ct_conversion_day_ad.index for day in monday_tuesday_days) else np.nan\n",
    ")\n",
    "\n",
    "# Calculate conversion rates for 'True' for weekends (Saturday and Sunday) and weekdays (Monday to Friday)\n",
    "weekend_days = ['Saturday', 'Sunday']\n",
    "weekday_days = ['Monday', 'Tuesday', 'Wednesday', 'Thursday', 'Friday']\n",
    "\n",
    "weekend_conversion_rate = (\n",
    "    ct_conversion_day_ad.loc[weekend_days, True].mean()\n",
    "    if any(day in ct_conversion_day_ad.index for day in weekend_days) else np.nan\n",
    ")\n",
    "\n",
    "weekday_conversion_rate = (\n",
    "    ct_conversion_day_ad.loc[weekday_days, True].mean()\n",
    "    if any(day in ct_conversion_day_ad.index for day in weekday_days) else np.nan\n",
    ")\n",
    "\n",
    "# Calculate relative percentages\n",
    "relative_percentage_overall = (\n",
    "    ((overall_conversion_rate - combined_monday_tuesday_rate) / combined_monday_tuesday_rate) * 100\n",
    "    if pd.notna(combined_monday_tuesday_rate) and combined_monday_tuesday_rate != 0 else np.nan\n",
    ")\n",
    "\n",
    "relative_percentage_weekend = (\n",
    "    ((weekend_conversion_rate - combined_monday_tuesday_rate) / combined_monday_tuesday_rate) * 100\n",
    "    if pd.notna(combined_monday_tuesday_rate) and combined_monday_tuesday_rate != 0 else np.nan\n",
    ")\n",
    "\n",
    "relative_percentage_weekday = (\n",
    "    ((weekday_conversion_rate - combined_monday_tuesday_rate) / combined_monday_tuesday_rate) * 100\n",
    "    if pd.notna(combined_monday_tuesday_rate) and combined_monday_tuesday_rate != 0 else np.nan\n",
    ")\n",
    "\n",
    "# Print the results\n",
    "# print(\"Overall Conversion Rate (True) across all days:\")\n",
    "# print(f\"{overall_conversion_rate:.6f}\")\n",
    "\n",
    "print(\"\\nTest Group = AD\\n\\nCombined Conversion Rate (True) for Monday and Tuesday:\")\n",
    "print(f\"{combined_monday_tuesday_rate:.6f}\")\n",
    "\n",
    "# print(\"\\nConversion Rate (True) for Weekends:\")\n",
    "# print(f\"{weekend_conversion_rate:.6f}\")\n",
    "\n",
    "# print(\"\\nConversion Rate (True) for Weekdays:\")\n",
    "# print(f\"{weekday_conversion_rate:.6f}\")\n",
    "\n",
    "print(\"\\nRelative Percentage of Overall Conversion Rate compared to Monday and Tuesday:\")\n",
    "print(f\"{relative_percentage_overall:.2f}%\" if pd.notna(relative_percentage_overall) else \"NaN\")\n",
    "\n",
    "print(\"\\nRelative Percentage of Weekend Conversion Rate compared to Monday and Tuesday:\")\n",
    "print(f\"{relative_percentage_weekend:.2f}%\" if pd.notna(relative_percentage_weekend) else \"NaN\")\n",
    "\n",
    "print(\"\\nRelative Percentage of Weekday Conversion Rate compared to Monday and Tuesday:\")\n",
    "print(f\"{relative_percentage_weekday:.2f}%\" if pd.notna(relative_percentage_weekday) else \"NaN\")\n"
   ]
  },
  {
   "cell_type": "markdown",
   "id": "61b934f3-302a-45d6-af10-799907697452",
   "metadata": {},
   "source": [
    "# Conversion rate hamematats monday conversion rate PSA i hamar"
   ]
  },
  {
   "cell_type": "code",
   "execution_count": 51,
   "id": "a643edda-d8cc-4418-9bd7-3e18ca303f6a",
   "metadata": {},
   "outputs": [
    {
     "name": "stdout",
     "output_type": "stream",
     "text": [
      "\n",
      "Test Group = PSA\n",
      "\n",
      "Conversion Rate (True) for Monday:\n",
      "0.022559\n",
      "\n",
      "Relative Percentage of Overall Conversion Rate compared to Monday:\n",
      "-20.85%\n",
      "\n",
      "Relative Percentage of Weekend Conversion Rate compared to Monday:\n",
      "-23.33%\n",
      "\n",
      "Relative Percentage of Weekday Conversion Rate compared to Monday:\n",
      "-20.83%\n"
     ]
    }
   ],
   "source": [
    "import pandas as pd\n",
    "import numpy as np\n",
    "\n",
    "ct_conversion_day_psa = pd.crosstab(df_psa['most ads day'], df_psa['converted'], normalize='index')\n",
    "# Calculate overall conversion rate for 'True' across all days\n",
    "overall_conversion_rate = df_psa['converted'].mean()\n",
    "\n",
    "# Calculate conversion rate for 'True' for Monday, handling missing days\n",
    "monday_conversion_rate = ct_conversion_day_psa.loc['Monday', True] if 'Monday' in ct_conversion_day_psa.index else np.nan\n",
    "\n",
    "# Calculate conversion rates for 'True' for weekends (Saturday and Sunday) and weekdays (Monday to Friday)\n",
    "weekend_days = ['Saturday', 'Sunday']\n",
    "weekday_days = ['Monday', 'Tuesday', 'Wednesday', 'Thursday', 'Friday']\n",
    "\n",
    "weekend_conversion_rate = (\n",
    "    ct_conversion_day_psa.loc[weekend_days, True].mean()\n",
    "    if any(day in ct_conversion_day_psa.index for day in weekend_days) else np.nan\n",
    ")\n",
    "\n",
    "weekday_conversion_rate = (\n",
    "    ct_conversion_day_psa.loc[weekday_days, True].mean()\n",
    "    if any(day in ct_conversion_day_psa.index for day in weekday_days) else np.nan\n",
    ")\n",
    "\n",
    "# Calculate relative percentages\n",
    "relative_percentage_overall = (\n",
    "    ((overall_conversion_rate - monday_conversion_rate) / monday_conversion_rate) * 100\n",
    "    if pd.notna(monday_conversion_rate) and monday_conversion_rate != 0 else np.nan\n",
    ")\n",
    "\n",
    "relative_percentage_weekend = (\n",
    "    ((weekend_conversion_rate - monday_conversion_rate) / monday_conversion_rate) * 100\n",
    "    if pd.notna(monday_conversion_rate) and monday_conversion_rate != 0 else np.nan\n",
    ")\n",
    "\n",
    "relative_percentage_weekday = (\n",
    "    ((weekday_conversion_rate - monday_conversion_rate) / monday_conversion_rate) * 100\n",
    "    if pd.notna(monday_conversion_rate) and monday_conversion_rate != 0 else np.nan\n",
    ")\n",
    "\n",
    "# Print the results\n",
    "# print(\"Overall Conversion Rate (True) across all days:\")\n",
    "# print(f\"{overall_conversion_rate:.6f}\")\n",
    "\n",
    "print(\"\\nTest Group = PSA\\n\\nConversion Rate (True) for Monday:\")\n",
    "print(f\"{monday_conversion_rate:.6f}\")\n",
    "\n",
    "# print(\"\\nConversion Rate (True) for Weekends:\")\n",
    "# print(f\"{weekend_conversion_rate:.6f}\")\n",
    "\n",
    "# print(\"\\nConversion Rate (True) for Weekdays:\")\n",
    "# print(f\"{weekday_conversion_rate:.6f}\")\n",
    "\n",
    "print(\"\\nRelative Percentage of Overall Conversion Rate compared to Monday:\")\n",
    "print(f\"{relative_percentage_overall:.2f}%\" if pd.notna(relative_percentage_overall) else \"NaN\")\n",
    "\n",
    "print(\"\\nRelative Percentage of Weekend Conversion Rate compared to Monday:\")\n",
    "print(f\"{relative_percentage_weekend:.2f}%\" if pd.notna(relative_percentage_weekend) else \"NaN\")\n",
    "\n",
    "print(\"\\nRelative Percentage of Weekday Conversion Rate compared to Monday:\")\n",
    "print(f\"{relative_percentage_weekday:.2f}%\" if pd.notna(relative_percentage_weekday) else \"NaN\")\n"
   ]
  },
  {
   "cell_type": "code",
   "execution_count": 52,
   "id": "bf391777-4fb6-41ec-818e-8f78943568fe",
   "metadata": {},
   "outputs": [
    {
     "name": "stdout",
     "output_type": "stream",
     "text": [
      "PSA group\n",
      "P-value matrix:\n"
     ]
    },
    {
     "data": {
      "text/html": [
       "<div>\n",
       "<style scoped>\n",
       "    .dataframe tbody tr th:only-of-type {\n",
       "        vertical-align: middle;\n",
       "    }\n",
       "\n",
       "    .dataframe tbody tr th {\n",
       "        vertical-align: top;\n",
       "    }\n",
       "\n",
       "    .dataframe thead th {\n",
       "        text-align: right;\n",
       "    }\n",
       "</style>\n",
       "<table border=\"1\" class=\"dataframe\">\n",
       "  <thead>\n",
       "    <tr style=\"text-align: right;\">\n",
       "      <th></th>\n",
       "      <th>Monday</th>\n",
       "      <th>Tuesday</th>\n",
       "      <th>Wednesday</th>\n",
       "      <th>Thursday</th>\n",
       "      <th>Friday</th>\n",
       "      <th>Saturday</th>\n",
       "      <th>Sunday</th>\n",
       "    </tr>\n",
       "  </thead>\n",
       "  <tbody>\n",
       "    <tr>\n",
       "      <th>Monday</th>\n",
       "      <td>1.000</td>\n",
       "      <td>0.022</td>\n",
       "      <td>0.047</td>\n",
       "      <td>0.541</td>\n",
       "      <td>0.063</td>\n",
       "      <td>0.016</td>\n",
       "      <td>0.645</td>\n",
       "    </tr>\n",
       "    <tr>\n",
       "      <th>Tuesday</th>\n",
       "      <td>0.022</td>\n",
       "      <td>1.000</td>\n",
       "      <td>0.745</td>\n",
       "      <td>0.090</td>\n",
       "      <td>0.610</td>\n",
       "      <td>0.973</td>\n",
       "      <td>0.088</td>\n",
       "    </tr>\n",
       "    <tr>\n",
       "      <th>Wednesday</th>\n",
       "      <td>0.047</td>\n",
       "      <td>0.745</td>\n",
       "      <td>1.000</td>\n",
       "      <td>0.176</td>\n",
       "      <td>0.927</td>\n",
       "      <td>0.637</td>\n",
       "      <td>0.169</td>\n",
       "    </tr>\n",
       "    <tr>\n",
       "      <th>Thursday</th>\n",
       "      <td>0.541</td>\n",
       "      <td>0.090</td>\n",
       "      <td>0.176</td>\n",
       "      <td>1.000</td>\n",
       "      <td>0.230</td>\n",
       "      <td>0.067</td>\n",
       "      <td>0.983</td>\n",
       "    </tr>\n",
       "    <tr>\n",
       "      <th>Friday</th>\n",
       "      <td>0.063</td>\n",
       "      <td>0.610</td>\n",
       "      <td>0.927</td>\n",
       "      <td>0.230</td>\n",
       "      <td>1.000</td>\n",
       "      <td>0.510</td>\n",
       "      <td>0.218</td>\n",
       "    </tr>\n",
       "    <tr>\n",
       "      <th>Saturday</th>\n",
       "      <td>0.016</td>\n",
       "      <td>0.973</td>\n",
       "      <td>0.637</td>\n",
       "      <td>0.067</td>\n",
       "      <td>0.510</td>\n",
       "      <td>1.000</td>\n",
       "      <td>0.066</td>\n",
       "    </tr>\n",
       "    <tr>\n",
       "      <th>Sunday</th>\n",
       "      <td>0.645</td>\n",
       "      <td>0.088</td>\n",
       "      <td>0.169</td>\n",
       "      <td>0.983</td>\n",
       "      <td>0.218</td>\n",
       "      <td>0.066</td>\n",
       "      <td>1.000</td>\n",
       "    </tr>\n",
       "  </tbody>\n",
       "</table>\n",
       "</div>"
      ],
      "text/plain": [
       "          Monday Tuesday Wednesday Thursday Friday Saturday Sunday\n",
       "Monday     1.000   0.022     0.047    0.541  0.063    0.016  0.645\n",
       "Tuesday    0.022   1.000     0.745    0.090  0.610    0.973  0.088\n",
       "Wednesday  0.047   0.745     1.000    0.176  0.927    0.637  0.169\n",
       "Thursday   0.541   0.090     0.176    1.000  0.230    0.067  0.983\n",
       "Friday     0.063   0.610     0.927    0.230  1.000    0.510  0.218\n",
       "Saturday   0.016   0.973     0.637    0.067  0.510    1.000  0.066\n",
       "Sunday     0.645   0.088     0.169    0.983  0.218    0.066  1.000"
      ]
     },
     "execution_count": 52,
     "metadata": {},
     "output_type": "execute_result"
    }
   ],
   "source": [
    "import pandas as pd\n",
    "from scipy import stats\n",
    "import numpy as np\n",
    "\n",
    "# Create the crosstab dataframe\n",
    "ct_conversion_day_psa = pd.crosstab(df_psa['most ads day'], df_psa['converted'])\n",
    "\n",
    "# Define the order of days\n",
    "day_order = ['Monday', 'Tuesday', 'Wednesday', 'Thursday', 'Friday', 'Saturday', 'Sunday']\n",
    "\n",
    "# Reindex the crosstab to ensure correct order\n",
    "ct_conversion_day_psa = ct_conversion_day_psa.reindex(day_order)\n",
    "\n",
    "# Initialize an empty DataFrame to store p-values\n",
    "p_value_matrix = pd.DataFrame(index=day_order, columns=day_order)\n",
    "\n",
    "# Loop through each pair of days\n",
    "for day1 in day_order:\n",
    "    for day2 in day_order:\n",
    "        # Create a subtable for the two days\n",
    "        subtable = ct_conversion_day_psa.loc[[day1, day2]]\n",
    "        \n",
    "        # Perform chi-square test\n",
    "        chi2_stat, p_value, dof, expected = stats.chi2_contingency(subtable)\n",
    "        \n",
    "        # Store the p-value in the matrix, formatted to two decimal places\n",
    "        p_value_matrix.loc[day1, day2] = f\"{p_value:.3f}\"\n",
    "\n",
    "# Display the p-value matrix\n",
    "print(\"PSA group\\nP-value matrix:\")\n",
    "p_value_matrix"
   ]
  },
  {
   "cell_type": "code",
   "execution_count": 53,
   "id": "d85fb032-5e25-4231-b5ab-0c3451b74750",
   "metadata": {},
   "outputs": [],
   "source": [
    "# import pandas as pd\n",
    "# import numpy as np\n",
    "\n",
    "# # Calculate overall conversion rate for 'True' across all days\n",
    "# overall_conversion_rate = df_psa['converted'].mean()\n",
    "\n",
    "# # Calculate combined conversion rate for 'True' for Monday and Tuesday, handling missing days\n",
    "# monday_tuesday_days = ['Monday', 'Thursday']\n",
    "# combined_monday_tuesday_rate = (\n",
    "#     ct_conversion_day_psa.loc[monday_tuesday_days, True].mean()\n",
    "#     if any(day in ct_conversion_day_psa.index for day in monday_tuesday_days) else np.nan\n",
    "# )\n",
    "\n",
    "# # Calculate conversion rates for 'True' for weekends (Saturday and Sunday) and weekdays (Monday to Friday)\n",
    "# weekend_days = ['Saturday', 'Sunday']\n",
    "# weekday_days = ['Monday', 'Tuesday', 'Wednesday', 'Thursday', 'Friday']\n",
    "\n",
    "# weekend_conversion_rate = (\n",
    "#     ct_conversion_day_psa.loc[weekend_days, True].mean()\n",
    "#     if any(day in ct_conversion_day_psa.index for day in weekend_days) else np.nan\n",
    "# )\n",
    "\n",
    "# weekday_conversion_rate = (\n",
    "#     ct_conversion_day_psa.loc[weekday_days, True].mean()\n",
    "#     if any(day in ct_conversion_day_psa.index for day in weekday_days) else np.nan\n",
    "# )\n",
    "\n",
    "# # Calculate relative percentages\n",
    "# relative_percentage_overall = (\n",
    "#     ((overall_conversion_rate - combined_monday_tuesday_rate) / combined_monday_tuesday_rate) * 100\n",
    "#     if pd.notna(combined_monday_tuesday_rate) and combined_monday_tuesday_rate != 0 else np.nan\n",
    "# )\n",
    "\n",
    "# relative_percentage_weekend = (\n",
    "#     ((weekend_conversion_rate - combined_monday_tuesday_rate) / combined_monday_tuesday_rate) * 100\n",
    "#     if pd.notna(combined_monday_tuesday_rate) and combined_monday_tuesday_rate != 0 else np.nan\n",
    "# )\n",
    "\n",
    "# relative_percentage_weekday = (\n",
    "#     ((weekday_conversion_rate - combined_monday_tuesday_rate) / combined_monday_tuesday_rate) * 100\n",
    "#     if pd.notna(combined_monday_tuesday_rate) and combined_monday_tuesday_rate != 0 else np.nan\n",
    "# )\n",
    "\n",
    "# # Print the results\n",
    "# # print(\"Overall Conversion Rate (True) across all days:\")\n",
    "# # print(f\"{overall_conversion_rate:.6f}\")\n",
    "\n",
    "# print(\"\\nTest Group = PSA\\n\\nCombined Conversion Rate (True) for Monday, and Thursday:\")\n",
    "# print(f\"{combined_monday_tuesday_rate:.6f}\")\n",
    "\n",
    "# # print(\"\\nConversion Rate (True) for Weekends:\")\n",
    "# # print(f\"{weekend_conversion_rate:.6f}\")\n",
    "\n",
    "# # print(\"\\nConversion Rate (True) for Weekdays:\")\n",
    "# # print(f\"{weekday_conversion_rate:.6f}\")\n",
    "\n",
    "# print(\"\\nRelative Percentage of Overall Conversion Rate compared to  Monday, and Thursday:\")\n",
    "# print(f\"{relative_percentage_overall:.2f}%\" if pd.notna(relative_percentage_overall) else \"NaN\")\n",
    "\n",
    "# print(\"\\nRelative Percentage of Weekend Conversion Rate compared toMonday, and Thursday:\")\n",
    "# print(f\"{relative_percentage_weekend:.2f}%\" if pd.notna(relative_percentage_weekend) else \"NaN\")\n",
    "\n",
    "# print(\"\\nRelative Percentage of Weekday Conversion Rate compared to Monday, and Thursday:\")\n",
    "# print(f\"{relative_percentage_weekday:.2f}%\" if pd.notna(relative_percentage_weekday) else \"NaN\")\n"
   ]
  },
  {
   "cell_type": "markdown",
   "id": "8926182a-29cb-4fa7-9c50-67f866cfcf7f",
   "metadata": {},
   "source": [
    "# Chi Squared Test for independence 'most ads hour' and 'converted'"
   ]
  },
  {
   "cell_type": "code",
   "execution_count": 54,
   "id": "ec1ad3a6-c7ad-4d9a-8190-61787390ea6d",
   "metadata": {},
   "outputs": [
    {
     "data": {
      "text/html": [
       "<style type=\"text/css\">\n",
       "#T_39891_row0_col0, #T_39891_row1_col0, #T_39891_row2_col0, #T_39891_row3_col0, #T_39891_row4_col0, #T_39891_row5_col0, #T_39891_row6_col0, #T_39891_row7_col0, #T_39891_row8_col0, #T_39891_row9_col0, #T_39891_row10_col0, #T_39891_row11_col0, #T_39891_row12_col0, #T_39891_row13_col0, #T_39891_row14_col0, #T_39891_row15_col0, #T_39891_row16_col0, #T_39891_row17_col0, #T_39891_row18_col0, #T_39891_row19_col0, #T_39891_row20_col0, #T_39891_row21_col0, #T_39891_row22_col0, #T_39891_row23_col0 {\n",
       "  background-color: darkred;\n",
       "}\n",
       "#T_39891_row0_col1, #T_39891_row1_col1, #T_39891_row2_col1, #T_39891_row3_col1, #T_39891_row4_col1, #T_39891_row5_col1, #T_39891_row6_col1, #T_39891_row7_col1, #T_39891_row8_col1, #T_39891_row9_col1, #T_39891_row10_col1, #T_39891_row11_col1, #T_39891_row12_col1, #T_39891_row13_col1, #T_39891_row14_col1, #T_39891_row15_col1, #T_39891_row16_col1, #T_39891_row17_col1, #T_39891_row18_col1, #T_39891_row19_col1, #T_39891_row20_col1, #T_39891_row21_col1, #T_39891_row22_col1, #T_39891_row23_col1 {\n",
       "  background-color: darkgreen;\n",
       "}\n",
       "</style>\n",
       "<table id=\"T_39891\">\n",
       "  <thead>\n",
       "    <tr>\n",
       "      <th class=\"index_name level0\" >converted</th>\n",
       "      <th id=\"T_39891_level0_col0\" class=\"col_heading level0 col0\" >False</th>\n",
       "      <th id=\"T_39891_level0_col1\" class=\"col_heading level0 col1\" >True</th>\n",
       "    </tr>\n",
       "    <tr>\n",
       "      <th class=\"index_name level0\" >most ads hour</th>\n",
       "      <th class=\"blank col0\" >&nbsp;</th>\n",
       "      <th class=\"blank col1\" >&nbsp;</th>\n",
       "    </tr>\n",
       "  </thead>\n",
       "  <tbody>\n",
       "    <tr>\n",
       "      <th id=\"T_39891_level0_row0\" class=\"row_heading level0 row0\" >16</th>\n",
       "      <td id=\"T_39891_row0_col0\" class=\"data row0 col0\" >0.969107</td>\n",
       "      <td id=\"T_39891_row0_col1\" class=\"data row0 col1\" >0.030893</td>\n",
       "    </tr>\n",
       "    <tr>\n",
       "      <th id=\"T_39891_level0_row1\" class=\"row_heading level0 row1\" >20</th>\n",
       "      <td id=\"T_39891_row1_col0\" class=\"data row1 col0\" >0.969726</td>\n",
       "      <td id=\"T_39891_row1_col1\" class=\"data row1 col1\" >0.030274</td>\n",
       "    </tr>\n",
       "    <tr>\n",
       "      <th id=\"T_39891_level0_row2\" class=\"row_heading level0 row2\" >15</th>\n",
       "      <td id=\"T_39891_row2_col0\" class=\"data row2 col0\" >0.970155</td>\n",
       "      <td id=\"T_39891_row2_col1\" class=\"data row2 col1\" >0.029845</td>\n",
       "    </tr>\n",
       "    <tr>\n",
       "      <th id=\"T_39891_level0_row3\" class=\"row_heading level0 row3\" >21</th>\n",
       "      <td id=\"T_39891_row3_col0\" class=\"data row3 col0\" >0.970825</td>\n",
       "      <td id=\"T_39891_row3_col1\" class=\"data row3 col1\" >0.029175</td>\n",
       "    </tr>\n",
       "    <tr>\n",
       "      <th id=\"T_39891_level0_row4\" class=\"row_heading level0 row4\" >14</th>\n",
       "      <td id=\"T_39891_row4_col0\" class=\"data row4 col0\" >0.971425</td>\n",
       "      <td id=\"T_39891_row4_col1\" class=\"data row4 col1\" >0.028575</td>\n",
       "    </tr>\n",
       "    <tr>\n",
       "      <th id=\"T_39891_level0_row5\" class=\"row_heading level0 row5\" >17</th>\n",
       "      <td id=\"T_39891_row5_col0\" class=\"data row5 col0\" >0.971463</td>\n",
       "      <td id=\"T_39891_row5_col1\" class=\"data row5 col1\" >0.028537</td>\n",
       "    </tr>\n",
       "    <tr>\n",
       "      <th id=\"T_39891_level0_row6\" class=\"row_heading level0 row6\" >18</th>\n",
       "      <td id=\"T_39891_row6_col0\" class=\"data row6 col0\" >0.972530</td>\n",
       "      <td id=\"T_39891_row6_col1\" class=\"data row6 col1\" >0.027470</td>\n",
       "    </tr>\n",
       "    <tr>\n",
       "      <th id=\"T_39891_level0_row7\" class=\"row_heading level0 row7\" >19</th>\n",
       "      <td id=\"T_39891_row7_col0\" class=\"data row7 col0\" >0.973191</td>\n",
       "      <td id=\"T_39891_row7_col1\" class=\"data row7 col1\" >0.026809</td>\n",
       "    </tr>\n",
       "    <tr>\n",
       "      <th id=\"T_39891_level0_row8\" class=\"row_heading level0 row8\" >22</th>\n",
       "      <td id=\"T_39891_row8_col0\" class=\"data row8 col0\" >0.973545</td>\n",
       "      <td id=\"T_39891_row8_col1\" class=\"data row8 col1\" >0.026455</td>\n",
       "    </tr>\n",
       "    <tr>\n",
       "      <th id=\"T_39891_level0_row9\" class=\"row_heading level0 row9\" >13</th>\n",
       "      <td id=\"T_39891_row9_col0\" class=\"data row9 col0\" >0.974937</td>\n",
       "      <td id=\"T_39891_row9_col1\" class=\"data row9 col1\" >0.025063</td>\n",
       "    </tr>\n",
       "    <tr>\n",
       "      <th id=\"T_39891_level0_row10\" class=\"row_heading level0 row10\" >12</th>\n",
       "      <td id=\"T_39891_row10_col0\" class=\"data row10 col0\" >0.975861</td>\n",
       "      <td id=\"T_39891_row10_col1\" class=\"data row10 col1\" >0.024139</td>\n",
       "    </tr>\n",
       "    <tr>\n",
       "      <th id=\"T_39891_level0_row11\" class=\"row_heading level0 row11\" >6</th>\n",
       "      <td id=\"T_39891_row11_col0\" class=\"data row11 col0\" >0.976826</td>\n",
       "      <td id=\"T_39891_row11_col1\" class=\"data row11 col1\" >0.023174</td>\n",
       "    </tr>\n",
       "    <tr>\n",
       "      <th id=\"T_39891_level0_row12\" class=\"row_heading level0 row12\" >23</th>\n",
       "      <td id=\"T_39891_row12_col0\" class=\"data row12 col0\" >0.977030</td>\n",
       "      <td id=\"T_39891_row12_col1\" class=\"data row12 col1\" >0.022970</td>\n",
       "    </tr>\n",
       "    <tr>\n",
       "      <th id=\"T_39891_level0_row13\" class=\"row_heading level0 row13\" >11</th>\n",
       "      <td id=\"T_39891_row13_col0\" class=\"data row13 col0\" >0.977531</td>\n",
       "      <td id=\"T_39891_row13_col1\" class=\"data row13 col1\" >0.022469</td>\n",
       "    </tr>\n",
       "    <tr>\n",
       "      <th id=\"T_39891_level0_row14\" class=\"row_heading level0 row14\" >10</th>\n",
       "      <td id=\"T_39891_row14_col0\" class=\"data row14 col0\" >0.978160</td>\n",
       "      <td id=\"T_39891_row14_col1\" class=\"data row14 col1\" >0.021840</td>\n",
       "    </tr>\n",
       "    <tr>\n",
       "      <th id=\"T_39891_level0_row15\" class=\"row_heading level0 row15\" >5</th>\n",
       "      <td id=\"T_39891_row15_col0\" class=\"data row15 col0\" >0.978437</td>\n",
       "      <td id=\"T_39891_row15_col1\" class=\"data row15 col1\" >0.021563</td>\n",
       "    </tr>\n",
       "    <tr>\n",
       "      <th id=\"T_39891_level0_row16\" class=\"row_heading level0 row16\" >8</th>\n",
       "      <td id=\"T_39891_row16_col0\" class=\"data row16 col0\" >0.980139</td>\n",
       "      <td id=\"T_39891_row16_col1\" class=\"data row16 col1\" >0.019861</td>\n",
       "    </tr>\n",
       "    <tr>\n",
       "      <th id=\"T_39891_level0_row17\" class=\"row_heading level0 row17\" >9</th>\n",
       "      <td id=\"T_39891_row17_col0\" class=\"data row17 col0\" >0.980471</td>\n",
       "      <td id=\"T_39891_row17_col1\" class=\"data row17 col1\" >0.019529</td>\n",
       "    </tr>\n",
       "    <tr>\n",
       "      <th id=\"T_39891_level0_row18\" class=\"row_heading level0 row18\" >0</th>\n",
       "      <td id=\"T_39891_row18_col0\" class=\"data row18 col0\" >0.980787</td>\n",
       "      <td id=\"T_39891_row18_col1\" class=\"data row18 col1\" >0.019213</td>\n",
       "    </tr>\n",
       "    <tr>\n",
       "      <th id=\"T_39891_level0_row19\" class=\"row_heading level0 row19\" >7</th>\n",
       "      <td id=\"T_39891_row19_col0\" class=\"data row19 col0\" >0.981518</td>\n",
       "      <td id=\"T_39891_row19_col1\" class=\"data row19 col1\" >0.018482</td>\n",
       "    </tr>\n",
       "    <tr>\n",
       "      <th id=\"T_39891_level0_row20\" class=\"row_heading level0 row20\" >4</th>\n",
       "      <td id=\"T_39891_row20_col0\" class=\"data row20 col0\" >0.984150</td>\n",
       "      <td id=\"T_39891_row20_col1\" class=\"data row20 col1\" >0.015850</td>\n",
       "    </tr>\n",
       "    <tr>\n",
       "      <th id=\"T_39891_level0_row21\" class=\"row_heading level0 row21\" >1</th>\n",
       "      <td id=\"T_39891_row21_col0\" class=\"data row21 col0\" >0.986566</td>\n",
       "      <td id=\"T_39891_row21_col1\" class=\"data row21 col1\" >0.013434</td>\n",
       "    </tr>\n",
       "    <tr>\n",
       "      <th id=\"T_39891_level0_row22\" class=\"row_heading level0 row22\" >3</th>\n",
       "      <td id=\"T_39891_row22_col0\" class=\"data row22 col0\" >0.989575</td>\n",
       "      <td id=\"T_39891_row22_col1\" class=\"data row22 col1\" >0.010425</td>\n",
       "    </tr>\n",
       "    <tr>\n",
       "      <th id=\"T_39891_level0_row23\" class=\"row_heading level0 row23\" >2</th>\n",
       "      <td id=\"T_39891_row23_col0\" class=\"data row23 col0\" >0.992430</td>\n",
       "      <td id=\"T_39891_row23_col1\" class=\"data row23 col1\" >0.007570</td>\n",
       "    </tr>\n",
       "  </tbody>\n",
       "</table>\n"
      ],
      "text/plain": [
       "<pandas.io.formats.style.Styler at 0x1fd70891a10>"
      ]
     },
     "execution_count": 54,
     "metadata": {},
     "output_type": "execute_result"
    }
   ],
   "source": [
    "ct_conversion_hour_ad = pd.crosstab(df_ad['most ads hour'], df_ad['converted'], normalize='index')\n",
    "ct_conversion_hour_ad_sorted = ct_conversion_hour_ad.sort_values(by=True, ascending=False)\n",
    "styled_ct_hour_ad = ct_conversion_hour_ad_sorted.style.apply(highlight_columns, axis=0)\n",
    "styled_ct_hour_ad"
   ]
  },
  {
   "cell_type": "code",
   "execution_count": 55,
   "id": "3ec5e519-6379-47c0-b21a-15b7f990a358",
   "metadata": {},
   "outputs": [],
   "source": [
    "# ct_conversion_hour_psa = pd.crosstab(df_psa['most ads hour'], df_psa['converted'], normalize='index')\n",
    "# ct_conversion_hour_psa_sorted = ct_conversion_hour_psa.sort_values(by=True, ascending=False)\n",
    "# styled_ct_hour_psa = ct_conversion_hour_psa_sorted.style.apply(highlight_columns, axis=0)\n",
    "# styled_ct_hour_psa"
   ]
  },
  {
   "cell_type": "code",
   "execution_count": 56,
   "id": "69611664-4340-47c2-80aa-f4689060143c",
   "metadata": {},
   "outputs": [
    {
     "name": "stdout",
     "output_type": "stream",
     "text": [
      "This Test for group AD\n",
      "\n",
      "Chi-square statistic: 403.3270\n",
      "P-value: 0.0000\n",
      "We reject the null hypothesis (H₀).\n",
      "The variables 'most ads hour' and 'converted' are dependent.\n"
     ]
    }
   ],
   "source": [
    "import pandas as pd\n",
    "from scipy import stats\n",
    "\n",
    "# Create the crosstab dataframe\n",
    "ct_conversion_hour_ad = pd.crosstab(df_ad['most ads hour'], df_ad['converted'])\n",
    "\n",
    "# Perform chi-square test\n",
    "chi2_stat, p_value, _, _ = stats.chi2_contingency(ct_conversion_hour_ad)\n",
    "\n",
    "print(\"This Test for group AD\\n\")\n",
    "print(f\"Chi-square statistic: {chi2_stat:.4f}\")\n",
    "print(f\"P-value: {p_value:.4f}\")\n",
    "\n",
    "# Interpret the result\n",
    "alpha = 0.05  # significance level\n",
    "if p_value < alpha:\n",
    "    print(\"We reject the null hypothesis (H₀).\\nThe variables 'most ads hour' and 'converted' are dependent.\")\n",
    "else:\n",
    "    print(\"We fail to reject the null hypothesis (H₀).\\nThe variables 'most ads hour' and 'converted' are independent.\")"
   ]
  },
  {
   "cell_type": "code",
   "execution_count": 57,
   "id": "2012c107-3cd2-4a24-a2fa-668e52b6c199",
   "metadata": {},
   "outputs": [
    {
     "name": "stderr",
     "output_type": "stream",
     "text": [
      "C:\\Users\\Acer\\AppData\\Local\\Temp\\ipykernel_11716\\4041065522.py:26: FutureWarning: \n",
      "\n",
      "Passing `palette` without assigning `hue` is deprecated and will be removed in v0.14.0. Assign the `x` variable to `hue` and set `legend=False` for the same effect.\n",
      "\n",
      "  ax = sns.barplot(x=true_conversions_percentage.index, y=true_conversions_percentage.values, palette=colors)\n"
     ]
    },
    {
     "data": {
      "image/png": "[encoded data removed]",
      "text/plain": [
       "<Figure size 1000x600 with 1 Axes>"
      ]
     },
     "metadata": {},
     "output_type": "display_data"
    }
   ],
   "source": [
    "import pandas as pd\n",
    "import matplotlib.pyplot as plt\n",
    "import seaborn as sns\n",
    "\n",
    "# Extract counts of True conversions for each hour from the crosstab\n",
    "true_conversions = ct_conversion_hour_ad[True]\n",
    "\n",
    "# Convert the counts to percentages\n",
    "true_conversions_percentage = true_conversions * 100\n",
    "\n",
    "# Ensure the hours are ordered correctly\n",
    "hours_order = list(range(24))\n",
    "true_conversions_percentage = true_conversions_percentage.reindex(hours_order, fill_value=0)\n",
    "\n",
    "# Sort the counts to identify the top 5 hours\n",
    "sorted_true_conversions_percentage = true_conversions_percentage.sort_values(ascending=False)\n",
    "top5_hours = sorted_true_conversions_percentage.head(6).index\n",
    "\n",
    "# Create a color palette with default and darker colors for top 5\n",
    "colors = ['#FF9999' if hour not in top5_hours else '#FF3333' for hour in hours_order]\n",
    "\n",
    "# Create a figure\n",
    "plt.figure(figsize=(10, 6))\n",
    "\n",
    "# Bar plot with custom colors for the top 5 highest columns\n",
    "ax = sns.barplot(x=true_conversions_percentage.index, y=true_conversions_percentage.values, palette=colors)\n",
    "plt.xlabel(\"Hour of the Day\")\n",
    "plt.ylabel(\"\")\n",
    "plt.title('Peak Hours for Highest Conversion Rates for Group AD')\n",
    "\n",
    "# Format the y-axis to show percentages\n",
    "ax.yaxis.set_major_formatter(plt.FuncFormatter(lambda x, _: f'{x:.1f}%'))\n",
    "\n",
    "# Adjust layout\n",
    "plt.tight_layout()\n",
    "\n",
    "# Show the plot\n",
    "plt.show()\n"
   ]
  },
  {
   "cell_type": "code",
   "execution_count": 58,
   "id": "766f64cd-4064-4ba6-9355-968e68273e80",
   "metadata": {},
   "outputs": [],
   "source": [
    "# import pandas as pd\n",
    "# from scipy import stats\n",
    "\n",
    "# # Create the crosstab dataframe\n",
    "# ct_conversion_hour_psa = pd.crosstab(df_psa['most ads hour'], df_psa['converted'])\n",
    "\n",
    "# # Perform chi-square test\n",
    "# chi2_stat, p_value, _, _ = stats.chi2_contingency(ct_conversion_hour_psa)\n",
    "\n",
    "# print(\"This Test for group PSA\\n\")\n",
    "# print(f\"Chi-square statistic: {chi2_stat:.4f}\")\n",
    "# print(f\"P-value: {p_value:.4f}\")\n",
    "\n",
    "# # Interpret the result\n",
    "# alpha = 0.05  # significance level\n",
    "# if p_value < alpha:\n",
    "#     print(\"We reject the null hypothesis (H₀).\\nThe variables 'most ads hour' and 'converted' are dependent.\")\n",
    "# else:\n",
    "#     print(\"We fail to reject the null hypothesis (H₀).\\nThe variables 'most ads hour' and 'converted' are independent.\")\n"
   ]
  },
  {
   "cell_type": "code",
   "execution_count": 59,
   "id": "1733cb1e-7d0b-4f4f-9dd1-c3fe58cda3b4",
   "metadata": {},
   "outputs": [
    {
     "name": "stdout",
     "output_type": "stream",
     "text": [
      "ads_converted group is not normally distributed\n",
      "ads_not_converted group is not normally distributed\n"
     ]
    },
    {
     "name": "stderr",
     "output_type": "stream",
     "text": [
      "C:\\Users\\Acer\\anaconda3\\Lib\\site-packages\\scipy\\stats\\_morestats.py:1882: UserWarning: p-value may not be accurate for N > 5000.\n",
      "  warnings.warn(\"p-value may not be accurate for N > 5000.\")\n"
     ]
    }
   ],
   "source": [
    "import pandas as pd\n",
    "from scipy.stats import shapiro\n",
    "\n",
    "ads_converted = df_ad[df_ad['converted'] == True]['total ads']\n",
    "ads_not_converted = df_ad[df_ad['converted'] == False]['total ads']\n",
    "\n",
    "_,p_value_true = shapiro(df_ad[df_ad['converted'] == True]['total ads'])\n",
    "_,p_value_false = shapiro(df_ad[df_ad['converted'] == False]['total ads'])\n",
    "\n",
    "alpha = 0.05\n",
    "if p_value_true < alpha:    \n",
    "    print(f\"ads_converted group is not normally distributed\")\n",
    "else:    \n",
    "    print(f\"ads_converted group is normally distributed\")\n",
    "if p_value_false < alpha:\n",
    "    print(f\"ads_not_converted group is not normally distributed\")\n",
    "else:\n",
    "    print(f\"ads_converted group is normally distributed\")"
   ]
  },
  {
   "cell_type": "code",
   "execution_count": 67,
   "id": "5ec3be20-9679-454e-89bf-61c22c9b32fe",
   "metadata": {},
   "outputs": [
    {
     "data": {
      "image/png": "[encoded data removed]",
      "text/plain": [
       "<Figure size 1200x500 with 2 Axes>"
      ]
     },
     "metadata": {},
     "output_type": "display_data"
    },
    {
     "data": {
      "image/png": "[encoded data removed]",
      "text/plain": [
       "<Figure size 1200x500 with 2 Axes>"
      ]
     },
     "metadata": {},
     "output_type": "display_data"
    }
   ],
   "source": [
    "import matplotlib.pyplot as plt\n",
    "import seaborn as sns\n",
    "from matplotlib.ticker import FuncFormatter\n",
    "\n",
    "# Example dataset (replace this with your actual dataset)\n",
    "ads_converted = df[df['converted']]['total ads']\n",
    "\n",
    "def thousands_formatter(x, pos):\n",
    "    return f'{int(x / 1000)}K'\n",
    "\n",
    "plt.figure(figsize=(12, 5))\n",
    "\n",
    "# Histogram\n",
    "plt.subplot(1, 2, 1)\n",
    "sns.histplot(ads_converted[ads_converted < 50], bins=20, kde=True, color='green')\n",
    "plt.title(\"Distribution of 'Total Ads' for Converted Entries\")\n",
    "plt.ylabel(\"\")\n",
    "# plt.gca().yaxis.set_major_formatter(FuncFormatter(thousands_formatter))\n",
    "\n",
    "# Boxplot\n",
    "plt.subplot(1, 2, 2)\n",
    "sns.boxplot(y=ads_converted[ads_converted < 50], color='green')\n",
    "plt.title(\"Boxplot of 'Total Ads' for Converted Entries\")\n",
    "plt.ylabel(\"\")\n",
    "\n",
    "# Adjust layout\n",
    "plt.tight_layout(pad=2)\n",
    "\n",
    "# Show the plots\n",
    "plt.show()\n",
    "\n",
    "# Example dataset (replace this with your actual dataset)\n",
    "ads_not_converted = df[~df['converted']]['total ads']\n",
    "\n",
    "def thousands_formatter(x, pos):\n",
    "    return f'{int(x / 1000)}K'\n",
    "\n",
    "plt.figure(figsize=(12, 5))\n",
    "\n",
    "# Histogram\n",
    "plt.subplot(1, 2, 1)\n",
    "sns.histplot(ads_not_converted[ads_not_converted < 50], bins=20, kde=True, color='red')\n",
    "plt.title(\"Distribution of 'Total Ads' for Not Converted Entries\")\n",
    "plt.ylabel(\"\")\n",
    "plt.gca().yaxis.set_major_formatter(FuncFormatter(thousands_formatter))\n",
    "\n",
    "# Boxplot\n",
    "plt.subplot(1, 2, 2)\n",
    "sns.boxplot(y=ads_not_converted[ads_not_converted < 50], color='red')\n",
    "plt.title(\"Boxplot of 'Total Ads' for Not Converted Entries\")\n",
    "plt.ylabel(\"\")\n",
    "\n",
    "# Adjust layout\n",
    "plt.tight_layout(pad=2)\n",
    "\n",
    "# Show the plots\n",
    "plt.show()\n",
    "\n"
   ]
  },
  {
   "cell_type": "code",
   "execution_count": null,
   "id": "529fdea7-7538-4198-816c-1dba64dbe8d2",
   "metadata": {},
   "outputs": [],
   "source": [
    "import pandas as pd\n",
    "from scipy.stats import mannwhitneyu\n",
    "\n",
    "# Perform the Mann-Whitney U test because the groups are not normally distributed\n",
    "# Conducting the Mann-Whitney U test\n",
    "u_stat, p_value = mannwhitneyu(ads_converted, ads_not_converted, alternative='two-sided')\n",
    "\n",
    "print(f\"U-statistic: {u_stat}\")\n",
    "print(f\"P-value: {p_value}\")\n",
    "\n",
    "# Interpretation of the result\n",
    "alpha = 0.05  # Significance level\n",
    "if p_value < alpha:\n",
    "    print(\"We reject the null hypothesis (H₀).\\nThe number of ad views ('total ads') affects conversion ('converted').\")\n",
    "else:\n",
    "    print(\"We cannot reject the null hypothesis (H₀).\\nThe number of ad views ('total ads') does not affect conversion ('converted').\")\n",
    "\n",
    "median_converted = ads_converted.median()\n",
    "median_not_converted = ads_not_converted.median()\n",
    "q1_converted, q3_converted = ads_converted.quantile([0.25, 0.75])\n",
    "q1_not_converted, q3_not_converted = ads_not_converted.quantile([0.25, 0.75])\n",
    "\n",
    "# Recommendation based on median values and quartiles\n",
    "# print(f\"Median of converted = {median_converted}\")\n",
    "if median_converted > median_not_converted:\n",
    "    print(f\"\\nIt is recommended to increase the number of ad views to the range {median_converted} - {q3_converted}.\")\n",
    "else:\n",
    "    print(f\"\\nIt is recommended to decrease the number of ad views to the range {q1_converted} - {median_converted}.\")\n"
   ]
  },
  {
   "cell_type": "markdown",
   "id": "bf35a699-e6e3-4ed0-84c9-6e69e0900bdc",
   "metadata": {},
   "source": [
    "# null and alternative hypotheses, p-values, significance levels (alpha),T Test, Chi Squared test, Shapiro-Wilk test,Levene's test,Mann-Whitney U test  and Type I/Type II errors,one-sided, two - sided.\n"
   ]
  },
  {
   "cell_type": "code",
   "execution_count": null,
   "id": "dc2f660a-86be-4493-9297-7b0159d3f7c4",
   "metadata": {},
   "outputs": [],
   "source": []
  }
 ],
 "metadata": {
  "kernelspec": {
   "display_name": "Python 3 (ipykernel)",
   "language": "python",
   "name": "python3"
  },
  "language_info": {
   "codemirror_mode": {
    "name": "ipython",
    "version": 3
   },
   "file_extension": ".py",
   "mimetype": "text/x-python",
   "name": "python",
   "nbconvert_exporter": "python",
   "pygments_lexer": "ipython3",
   "version": "3.11.7"
  }
 },
 "nbformat": 4,
 "nbformat_minor": 5
}
